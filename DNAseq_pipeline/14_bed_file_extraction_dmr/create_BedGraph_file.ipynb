{
 "cells": [
  {
   "cell_type": "code",
   "execution_count": 2,
   "metadata": {},
   "outputs": [],
   "source": [
    "import pandas as pd \n",
    "import numpy as np \n",
    "import matplotlib.pyplot as plt\n",
    "import seaborn as sns\n",
    "import csv"
   ]
  },
  {
   "cell_type": "code",
   "execution_count": 3,
   "metadata": {},
   "outputs": [],
   "source": [
    "positions = pd.read_csv('NA_genome_matrix_CG_G.tsv', sep='\\t', nrows=500)"
   ]
  },
  {
   "cell_type": "code",
   "execution_count": 4,
   "metadata": {},
   "outputs": [],
   "source": [
    "# drop rows that have nan values \n",
    "positions = positions.dropna()\n",
    "positions = positions.drop(columns=['class', 'strand'])"
   ]
  },
  {
   "cell_type": "code",
   "execution_count": 5,
   "metadata": {},
   "outputs": [],
   "source": [
    "# define a function to extract the second value from the list \n",
    "def get_second_value(positions):\n",
    "    temp = positions.strip().split('/')\n",
    "    if len(temp) > 1:\n",
    "        return float(temp[1])\n",
    "    else:\n",
    "        return np.nan\n",
    "\n",
    "for col in positions.columns[-8:]:\n",
    "    positions[col] = positions[col].apply(get_second_value)\n",
    "    temp = positions[['#chr', 'pos', col]].dropna()\n",
    "    # duplicate pos column \n",
    "    temp['end'] = temp['pos']\n",
    "    # reorder columns \n",
    "    temp = temp[['#chr', 'pos', 'end', col]]\n",
    "    # export temp without the column names \n",
    "    temp.to_csv(f'{col}.bed', sep='\\t', index=False, header=False)\n"
   ]
  },
  {
   "cell_type": "code",
   "execution_count": null,
   "metadata": {},
   "outputs": [],
   "source": []
  }
 ],
 "metadata": {
  "kernelspec": {
   "display_name": "methylscore",
   "language": "python",
   "name": "python3"
  },
  "language_info": {
   "codemirror_mode": {
    "name": "ipython",
    "version": 3
   },
   "file_extension": ".py",
   "mimetype": "text/x-python",
   "name": "python",
   "nbconvert_exporter": "python",
   "pygments_lexer": "ipython3",
   "version": "3.11.0"
  }
 },
 "nbformat": 4,
 "nbformat_minor": 2
}
