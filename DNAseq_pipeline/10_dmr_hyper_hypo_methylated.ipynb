{
 "cells": [
  {
   "cell_type": "markdown",
   "metadata": {},
   "source": [
    "# MethylScore output filtering "
   ]
  },
  {
   "cell_type": "code",
   "execution_count": 1,
   "metadata": {},
   "outputs": [],
   "source": [
    "# import packages \n",
    "import os\n",
    "import awkward as ak\n",
    "import shutil\n",
    "import numpy as np \n",
    "import pandas as pd "
   ]
  },
  {
   "cell_type": "markdown",
   "metadata": {},
   "source": [
    "# 4) Put in categories of hyper- and hypomethylated "
   ]
  },
  {
   "cell_type": "code",
   "execution_count": 2,
   "metadata": {},
   "outputs": [],
   "source": [
    "# Define the function to perform the renaming\n",
    "def rename_based_on_condition(item):\n",
    "    if item.startswith('A'):\n",
    "        return 'A'  # Rename if the item starts with A\n",
    "    elif item.startswith('N'):\n",
    "        return 'N'  # Rename if the item starts with N\n",
    "    elif item.startswith('2'):\n",
    "        return 'R'  # Rename if the item starts with 2\n",
    "\n",
    "\n",
    "def process_input_file(input_file_path):\n",
    "    # create result df\n",
    "    result = pd.DataFrame()\n",
    "    matched_lines = []\n",
    "\n",
    "    with open(input_file_path, 'r') as file:\n",
    "        for i,line in enumerate(file):\n",
    "            # Split the line into columns\n",
    "            columns = line.strip().split('\\t')\n",
    "\n",
    "            # Extract the identified clusters column\n",
    "            clusters = columns[5:-3]\n",
    "            num_elements = len(clusters)\n",
    "            half = num_elements // 2\n",
    "            first_half = clusters[:half]\n",
    "            last_half = clusters[half:]\n",
    "\n",
    "            # for last half check put into categories\n",
    "            last_half = [cluster.split(':')[1] for cluster in last_half]\n",
    "            last_half = list(map(rename_based_on_condition, last_half))\n",
    "            \n",
    "            # for first half \n",
    "            first_half = [cluster.split(':')[1] for cluster in first_half]\n",
    "            # convert lists to dict \n",
    "            percentages = {key: [] for key in last_half}\n",
    "            for condition, percentage in zip(last_half, first_half):\n",
    "                if percentage == '':\n",
    "                    continue\n",
    "                percentages[condition].append(float(percentage))\n",
    "            percentages = {key: np.mean(value) for key, value in percentages.items()}\n",
    "\n",
    "            if set(['N','A']) == set(percentages.keys()): \n",
    "                ratio = percentages['A'] / percentages['N']\n",
    "                result['comparison'] = 'AvsN'\n",
    "            if set(['N','R']) == set(percentages.keys()):\n",
    "                ratio = percentages['R'] / percentages['N']\n",
    "                result['comparison'] = 'RvsN'\n",
    "            if set(['A','R']) == set(percentages.keys()):\n",
    "                ratio = percentages['R'] / percentages['A']\n",
    "                result['comparison'] = 'RvsA'\n",
    "            \n",
    "            if ratio > 1: \n",
    "                result.loc[i, 'methylation_status'] = 'hyper'\n",
    "            elif ratio < 1: \n",
    "                result.loc[i, 'methylation_status'] = 'hypo'                    \n",
    "            elif ratio == 1: # equal\n",
    "                result.loc[i, 'methylation_status'] = 'equal'\n",
    "    return result\n",
    "\n",
    "# List of input file paths\n",
    "input_files = ['7_match_dmr_to_gene/dmr_withingene_NvsA.txt', '7_match_dmr_to_gene/dmr_withingene_NvsR.txt', '7_match_dmr_to_gene/dmr_withingene_AvsR.txt']\n",
    "\n",
    "# Process each input file\n",
    "results = []\n",
    "for input_file in input_files:\n",
    "    results.append(process_input_file(input_file))\n",
    "results = pd.concat(results)\n",
    "\n",
    "results['count'] = 1\n",
    "results = results.groupby(['comparison', 'methylation_status']).sum()"
   ]
  },
  {
   "cell_type": "code",
   "execution_count": 3,
   "metadata": {},
   "outputs": [],
   "source": [
    "results.reset_index( inplace=True)"
   ]
  },
  {
   "cell_type": "code",
   "execution_count": 4,
   "metadata": {},
   "outputs": [],
   "source": [
    "results = results.loc[results['methylation_status'] != 'equal']"
   ]
  },
  {
   "cell_type": "code",
   "execution_count": 5,
   "metadata": {},
   "outputs": [
    {
     "data": {
      "text/html": [
       "<div>\n",
       "<style scoped>\n",
       "    .dataframe tbody tr th:only-of-type {\n",
       "        vertical-align: middle;\n",
       "    }\n",
       "\n",
       "    .dataframe tbody tr th {\n",
       "        vertical-align: top;\n",
       "    }\n",
       "\n",
       "    .dataframe thead th {\n",
       "        text-align: right;\n",
       "    }\n",
       "</style>\n",
       "<table border=\"1\" class=\"dataframe\">\n",
       "  <thead>\n",
       "    <tr style=\"text-align: right;\">\n",
       "      <th></th>\n",
       "      <th>comparison</th>\n",
       "      <th>methylation_status</th>\n",
       "      <th>count</th>\n",
       "    </tr>\n",
       "  </thead>\n",
       "  <tbody>\n",
       "    <tr>\n",
       "      <th>1</th>\n",
       "      <td>AvsN</td>\n",
       "      <td>hyper</td>\n",
       "      <td>7</td>\n",
       "    </tr>\n",
       "    <tr>\n",
       "      <th>2</th>\n",
       "      <td>AvsN</td>\n",
       "      <td>hypo</td>\n",
       "      <td>7</td>\n",
       "    </tr>\n",
       "    <tr>\n",
       "      <th>3</th>\n",
       "      <td>RvsA</td>\n",
       "      <td>hyper</td>\n",
       "      <td>1</td>\n",
       "    </tr>\n",
       "    <tr>\n",
       "      <th>4</th>\n",
       "      <td>RvsA</td>\n",
       "      <td>hypo</td>\n",
       "      <td>14</td>\n",
       "    </tr>\n",
       "    <tr>\n",
       "      <th>5</th>\n",
       "      <td>RvsN</td>\n",
       "      <td>hyper</td>\n",
       "      <td>7</td>\n",
       "    </tr>\n",
       "    <tr>\n",
       "      <th>6</th>\n",
       "      <td>RvsN</td>\n",
       "      <td>hypo</td>\n",
       "      <td>21</td>\n",
       "    </tr>\n",
       "  </tbody>\n",
       "</table>\n",
       "</div>"
      ],
      "text/plain": [
       "  comparison methylation_status  count\n",
       "1       AvsN              hyper      7\n",
       "2       AvsN               hypo      7\n",
       "3       RvsA              hyper      1\n",
       "4       RvsA               hypo     14\n",
       "5       RvsN              hyper      7\n",
       "6       RvsN               hypo     21"
      ]
     },
     "execution_count": 5,
     "metadata": {},
     "output_type": "execute_result"
    }
   ],
   "source": [
    "results"
   ]
  },
  {
   "cell_type": "code",
   "execution_count": 6,
   "metadata": {},
   "outputs": [
    {
     "data": {
      "image/png": "[encoded data removed]",
      "text/plain": [
       "<Figure size 640x480 with 1 Axes>"
      ]
     },
     "metadata": {},
     "output_type": "display_data"
    }
   ],
   "source": [
    "import textwrap\n",
    "def wrap_labels(ax, width, break_long_words=False):\n",
    "    labels = []\n",
    "    for label in ax.get_xticklabels():\n",
    "        text = label.get_text()\n",
    "        labels.append(textwrap.fill(text, width=width,\n",
    "                      break_long_words=break_long_words))\n",
    "    ax.set_xticklabels(labels, rotation=0)\n",
    "\n",
    "\n",
    "\n",
    "# create a histogram for each comparison and methylation status \n",
    "import seaborn as sns\n",
    "import matplotlib.pyplot as plt\n",
    "\n",
    "ax = sns.barplot(results, x=\"comparison\",order=['AvsN', 'RvsN','RvsA'] ,  y=\"count\", hue=\"methylation_status\", width=0.8, color=\"#99B1BD\")\n",
    "for container in ax.containers:\n",
    "    ax.bar_label(container, fontsize=10)\n",
    "plt.ylabel('Number of DMRs')\n",
    "plt.xlabel('Comparison')\n",
    "plt.title('Methylation Status of DMRs')\n",
    "plt.legend(title='Methylation status')\n",
    "ax.set(xticklabels=['Normoxia to Anoxia', 'Normoxia to Reoxygenation', 'Anoxia to Reoxygenation'])\n",
    "wrap_labels(ax,10)\n",
    "\n",
    "plt.savefig('6_DMRsCG/MethylationStatusofDMRs.png', dpi=500, bbox_inches='tight')\n",
    "\n",
    "\n"
   ]
  },
  {
   "cell_type": "code",
   "execution_count": null,
   "metadata": {},
   "outputs": [],
   "source": []
  }
 ],
 "metadata": {
  "kernelspec": {
   "display_name": "general",
   "language": "python",
   "name": "python3"
  },
  "language_info": {
   "codemirror_mode": {
    "name": "ipython",
    "version": 3
   },
   "file_extension": ".py",
   "mimetype": "text/x-python",
   "name": "python",
   "nbconvert_exporter": "python",
   "pygments_lexer": "ipython3",
   "version": "3.11.0"
  }
 },
 "nbformat": 4,
 "nbformat_minor": 2
}
