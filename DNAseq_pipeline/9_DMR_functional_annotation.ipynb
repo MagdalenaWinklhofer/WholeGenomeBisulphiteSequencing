{
 "cells": [
  {
   "cell_type": "code",
   "execution_count": 2,
   "metadata": {},
   "outputs": [],
   "source": [
    "# import packages \n",
    "import pandas as pd \n"
   ]
  },
  {
   "cell_type": "code",
   "execution_count": 7,
   "metadata": {},
   "outputs": [],
   "source": [
    "# Import data\n",
    "\n",
    "# DMR data\n",
    "# cor = correlation of DMR and DEG  \n",
    "corNA = pd.read_csv('7_match_dmr_to_gene/correlationNA.txt', header=0, names=['geneid'])\n",
    "corNR = pd.read_csv('7_match_dmr_to_gene/correlationNR.txt', header=0, names=['geneid'])\n",
    "corAR = pd.read_csv('7_match_dmr_to_gene/correlationAR.txt', header=0, names=['geneid'])\n",
    "\n",
    "\n",
    "# Geneid to GO term\n",
    "goterm = pd.read_csv('9_DMR_functional_annotation/gene_id_goterms_df_fullgenome.tsv', sep='\\t', header=None, names=['gene_id', 'goterm', 'chromosome'])\n",
    "\n",
    "# GO term to description\n",
    "godesc = pd.read_csv('9_DMR_functional_annotation/goterm_desc_ref.tsv', sep='\\t', header=None, names=['biofunction', 'goterm', 'description'])"
   ]
  },
  {
   "cell_type": "code",
   "execution_count": 19,
   "metadata": {},
   "outputs": [
    {
     "name": "stdout",
     "output_type": "stream",
     "text": [
      "Empty DataFrame\n",
      "Columns: [gene_id, goterm, chromosome]\n",
      "Index: []\n",
      "Empty DataFrame\n",
      "Columns: [gene_id, goterm, chromosome]\n",
      "Index: []\n",
      "Empty DataFrame\n",
      "Columns: [gene_id, goterm, chromosome]\n",
      "Index: []\n"
     ]
    }
   ],
   "source": [
    "# filter for genes in correlation data for the goterm df \n",
    "gotermNA = goterm[goterm['gene_id'].isin(corNA['geneid'])]\n",
    "gotermNR = goterm[goterm['gene_id'].isin(corNR['geneid'])]\n",
    "gotermAR = goterm[goterm['gene_id'].isin(corAR['geneid'])]\n",
    "\n",
    "print(gotermNA)\n",
    "print(gotermNR)\n",
    "print(gotermAR)"
   ]
  },
  {
   "cell_type": "code",
   "execution_count": 20,
   "metadata": {},
   "outputs": [
    {
     "data": {
      "text/plain": [
       "0    ccar_ua24-ccar_g38225\n",
       "Name: geneid, dtype: object"
      ]
     },
     "execution_count": 20,
     "metadata": {},
     "output_type": "execute_result"
    }
   ],
   "source": [
    "corNR['geneid']"
   ]
  },
  {
   "cell_type": "code",
   "execution_count": null,
   "metadata": {},
   "outputs": [],
   "source": []
  }
 ],
 "metadata": {
  "kernelspec": {
   "display_name": "methylscore",
   "language": "python",
   "name": "python3"
  },
  "language_info": {
   "codemirror_mode": {
    "name": "ipython",
    "version": 3
   },
   "file_extension": ".py",
   "mimetype": "text/x-python",
   "name": "python",
   "nbconvert_exporter": "python",
   "pygments_lexer": "ipython3",
   "version": "3.11.0"
  }
 },
 "nbformat": 4,
 "nbformat_minor": 2
}
