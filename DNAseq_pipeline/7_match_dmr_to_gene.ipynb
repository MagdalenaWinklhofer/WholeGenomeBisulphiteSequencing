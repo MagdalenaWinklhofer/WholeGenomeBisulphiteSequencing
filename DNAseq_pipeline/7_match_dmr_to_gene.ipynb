{
 "cells": [
  {
   "cell_type": "code",
   "execution_count": 1,
   "metadata": {},
   "outputs": [],
   "source": [
    "# import packages \n",
    "import awkward as ak\n",
    "import pandas as pd\n",
    "import numpy as np\n",
    "import re\n",
    "import shutil\n",
    "import os\n"
   ]
  },
  {
   "cell_type": "markdown",
   "metadata": {},
   "source": [
    "# 1) Import DMRs for all comparisons "
   ]
  },
  {
   "cell_type": "code",
   "execution_count": 2,
   "metadata": {},
   "outputs": [],
   "source": [
    "# Dictionary to store dmr_subset with their names\n",
    "dmr_subsets = {}\n",
    "\n",
    "# List of input files\n",
    "input_files = ['6_DMRsCG/1_NvsA/1_NvsA.txt', '6_DMRsCG/2_NvsR/2_NvsR.txt', '6_DMRsCG/3_AvsR/3_AvsR.txt']\n",
    "\n",
    "# Process each input file\n",
    "for input_file in input_files:\n",
    "    # Reading data from the input file and converting it to an awkward array\n",
    "    array = []\n",
    "    with open(input_file, 'r') as file:\n",
    "        for line in file:\n",
    "            columns = line.strip().split('\\t')  # Split the line into columns\n",
    "            array.append(columns)\n",
    "\n",
    "    df = ak.from_iter(array)\n",
    "\n",
    "    # Extract column 1, 2, 3\n",
    "    dmr_subset = df[:, [0, 1, 2]]\n",
    "\n",
    "    # Convert to pandas dataframe\n",
    "    dmr_subset = pd.DataFrame(dmr_subset)\n",
    "    dmr_subset.rename(columns={0: 'chr', 1: 'start', 2: 'end'}, inplace=True)\n",
    "\n",
    "    # Convert to int\n",
    "    dmr_subset['start'] = dmr_subset['start'].astype(int)\n",
    "    dmr_subset['end'] = dmr_subset['end'].astype(int)\n",
    "    dmr_subset['chr'] = dmr_subset['chr'].astype(str)\n",
    "\n",
    "    # Assign the name to dmr_subset\n",
    "    subset_name = 'dmr_subset_' + os.path.basename(os.path.dirname(input_file))\n",
    "    dmr_subsets[subset_name] = dmr_subset\n"
   ]
  },
  {
   "cell_type": "markdown",
   "metadata": {},
   "source": [
    "# 2) Import gene annotation"
   ]
  },
  {
   "cell_type": "code",
   "execution_count": 3,
   "metadata": {},
   "outputs": [],
   "source": [
    "# import ccar_annotation.gtf as pd df \n",
    "import pandas as pd \n",
    "\n",
    "annotation = pd.read_csv('7_match_dmr_to_gene/ccar_annotation.gtf', sep='\\t', skiprows=1, header=None)\n",
    "# renaming the header of the annotation file\n",
    "annotation = annotation.rename({0: 'seqname',\n",
    "                                1: 'source',\n",
    "                                2: 'feature',\n",
    "                                3: 'start',\n",
    "                                4: 'stop',\n",
    "                                5: 'score',\n",
    "                                6: 'strand',\n",
    "                                7: 'frame',\n",
    "                                8: 'attribute'}, axis=1)\n",
    "\n",
    "    \n",
    "# define a function to extract the geneid\n",
    "def extract_gene_id(attributes):\n",
    "    # Using a regular expression to match and extract the desired part\n",
    "    match = re.search(r'gene_id \"([^\"]+)\"', attributes)\n",
    "    if match:\n",
    "        return match.group(1)\n",
    "    else:\n",
    "        return 0 # Return 0 if there is no match\n",
    "    \n",
    "# filtering the column feature for transcritps\n",
    "annotation = annotation[annotation['feature'] == 'transcript']\n",
    "# Apply the function to the \"attributes\" column and create a new column with the extracted gene ids\n",
    "annotation['gene_id'] = annotation['attribute'].apply(extract_gene_id)"
   ]
  },
  {
   "cell_type": "markdown",
   "metadata": {},
   "source": [
    "# 3) Add 2000 bp to start and stop of gene id's to simulate UTRs (untranslated regions) "
   ]
  },
  {
   "cell_type": "code",
   "execution_count": 4,
   "metadata": {},
   "outputs": [
    {
     "name": "stderr",
     "output_type": "stream",
     "text": [
      "/tmp/ipykernel_5222/1375675161.py:4: SettingWithCopyWarning: \n",
      "A value is trying to be set on a copy of a slice from a DataFrame.\n",
      "Try using .loc[row_indexer,col_indexer] = value instead\n",
      "\n",
      "See the caveats in the documentation: https://pandas.pydata.org/pandas-docs/stable/user_guide/indexing.html#returning-a-view-versus-a-copy\n",
      "  anno_subset['start_2000'] = anno_subset['start'] - 2000\n",
      "/tmp/ipykernel_5222/1375675161.py:6: SettingWithCopyWarning: \n",
      "A value is trying to be set on a copy of a slice from a DataFrame.\n",
      "Try using .loc[row_indexer,col_indexer] = value instead\n",
      "\n",
      "See the caveats in the documentation: https://pandas.pydata.org/pandas-docs/stable/user_guide/indexing.html#returning-a-view-versus-a-copy\n",
      "  anno_subset['start_2000'] = np.where(anno_subset['start_2000'] < 0, 0, anno_subset['start_2000'])\n",
      "/tmp/ipykernel_5222/1375675161.py:8: SettingWithCopyWarning: \n",
      "A value is trying to be set on a copy of a slice from a DataFrame.\n",
      "Try using .loc[row_indexer,col_indexer] = value instead\n",
      "\n",
      "See the caveats in the documentation: https://pandas.pydata.org/pandas-docs/stable/user_guide/indexing.html#returning-a-view-versus-a-copy\n",
      "  anno_subset['stop_2000'] = anno_subset['stop'] + 2000\n"
     ]
    }
   ],
   "source": [
    "# extract seqname , start and stop column \n",
    "anno_subset = annotation[['seqname', 'start', 'stop', 'gene_id']]\n",
    "# create new column called \"start_2000\"\n",
    "anno_subset['start_2000'] = anno_subset['start'] - 2000\n",
    "# check if any value is negative and replace it with 0\n",
    "anno_subset['start_2000'] = np.where(anno_subset['start_2000'] < 0, 0, anno_subset['start_2000'])\n",
    "# create new column called \"stop_2000\"\n",
    "anno_subset['stop_2000'] = anno_subset['stop'] + 2000"
   ]
  },
  {
   "cell_type": "markdown",
   "metadata": {},
   "source": [
    "# 4) Identify if DMR is within gene borders --> append geneid to list "
   ]
  },
  {
   "cell_type": "code",
   "execution_count": 27,
   "metadata": {},
   "outputs": [],
   "source": [
    "# Dictionary to store the result_transcript_ids with their names\n",
    "result_transcript_ids_dict = {}\n",
    "\n",
    "# Check conditions and extract transcript_id for each dmr_subset\n",
    "for subset_name, dmr_subset in dmr_subsets.items():\n",
    "    result_transcript_ids = []\n",
    "    comparison = subset_name.split('_')[-1]  # Get the comparison type (NvsA = 1, NvsR = 2, or AvsR = 3)\n",
    "    for index, row in dmr_subset.iterrows():\n",
    "        chr_val = row['chr']\n",
    "        start_val = row['start']\n",
    "        end_val = row['end']\n",
    "        relevant_anno_subset = anno_subset[(anno_subset['seqname'] == chr_val) & (anno_subset['start_2000'] <= start_val) & (anno_subset['stop_2000'] >= end_val)]\n",
    "        \n",
    "        # Append transcript_id to the result_transcript_ids list\n",
    "        if not relevant_anno_subset.empty:\n",
    "            result_transcript_ids.extend(relevant_anno_subset['gene_id'].tolist())\n",
    "    \n",
    "    # Assign the result_transcript_ids to a specific name with the comparison type\n",
    "    result_name = f\"{comparison}\"\n",
    "    result_transcript_ids_dict[result_name] = result_transcript_ids\n"
   ]
  },
  {
   "cell_type": "code",
   "execution_count": 35,
   "metadata": {},
   "outputs": [
    {
     "name": "stdout",
     "output_type": "stream",
     "text": [
      "NvsA: 35\n",
      "NvsR: 58\n",
      "AvsR: 25\n"
     ]
    }
   ],
   "source": [
    "# check how many dmrs are within gene borders. \n",
    "print('NvsA:', len(set(result_transcript_ids_dict['NvsA'])))\n",
    "print('NvsR:', len(set(result_transcript_ids_dict['NvsR'])))\n",
    "print('AvsR:', len(set(result_transcript_ids_dict['AvsR'])))"
   ]
  },
  {
   "cell_type": "markdown",
   "metadata": {},
   "source": [
    "# 5) Correlate to DEGs"
   ]
  },
  {
   "cell_type": "code",
   "execution_count": 42,
   "metadata": {},
   "outputs": [],
   "source": [
    "# import deg data from RNA pipeline \n",
    "deg_NvsA = pd.read_csv('/home/maggy/WholeGenomeBisulphiteSequencing/RNAseq_pipeline/11_identify_DEG/deg_ar.txt', sep=',')\n",
    "deg_NvsR = pd.read_csv('/home/maggy/WholeGenomeBisulphiteSequencing/RNAseq_pipeline/11_identify_DEG/deg_nr.txt', sep=',')\t\n",
    "deg_AvsR = pd.read_csv('/home/maggy/WholeGenomeBisulphiteSequencing/RNAseq_pipeline/11_identify_DEG/deg_ar.txt', sep=',')"
   ]
  },
  {
   "cell_type": "code",
   "execution_count": 46,
   "metadata": {},
   "outputs": [],
   "source": [
    "deg_na = set(deg_NvsA['Unnamed: 0'])\n",
    "deg_nr = set(deg_NvsR['Unnamed: 0'])\n",
    "deg_ar = set(deg_AvsR['Unnamed: 0'])"
   ]
  },
  {
   "cell_type": "code",
   "execution_count": 53,
   "metadata": {},
   "outputs": [
    {
     "data": {
      "text/plain": [
       "232"
      ]
     },
     "execution_count": 53,
     "metadata": {},
     "output_type": "execute_result"
    }
   ],
   "source": [
    "len(deg_na)"
   ]
  },
  {
   "cell_type": "code",
   "execution_count": 48,
   "metadata": {},
   "outputs": [
    {
     "data": {
      "text/plain": [
       "0"
      ]
     },
     "execution_count": 48,
     "metadata": {},
     "output_type": "execute_result"
    }
   ],
   "source": [
    "len(deg_na.intersection(set(result_transcript_ids_dict['NvsA'])))"
   ]
  },
  {
   "cell_type": "code",
   "execution_count": 49,
   "metadata": {},
   "outputs": [
    {
     "data": {
      "text/plain": [
       "1"
      ]
     },
     "execution_count": 49,
     "metadata": {},
     "output_type": "execute_result"
    }
   ],
   "source": [
    "len(deg_nr.intersection(set(result_transcript_ids_dict['NvsR'])))"
   ]
  },
  {
   "cell_type": "code",
   "execution_count": 50,
   "metadata": {},
   "outputs": [
    {
     "data": {
      "text/plain": [
       "0"
      ]
     },
     "execution_count": 50,
     "metadata": {},
     "output_type": "execute_result"
    }
   ],
   "source": [
    "len(deg_ar.intersection(set(result_transcript_ids_dict['AvsR'])))"
   ]
  },
  {
   "cell_type": "code",
   "execution_count": 51,
   "metadata": {},
   "outputs": [
    {
     "data": {
      "text/plain": [
       "{'ccar_ua24-ccar_g38225'}"
      ]
     },
     "execution_count": 51,
     "metadata": {},
     "output_type": "execute_result"
    }
   ],
   "source": [
    "deg_nr.intersection(set(result_transcript_ids_dict['NvsR']))"
   ]
  },
  {
   "cell_type": "code",
   "execution_count": null,
   "metadata": {},
   "outputs": [],
   "source": []
  }
 ],
 "metadata": {
  "kernelspec": {
   "display_name": "methylscore",
   "language": "python",
   "name": "python3"
  },
  "language_info": {
   "codemirror_mode": {
    "name": "ipython",
    "version": 3
   },
   "file_extension": ".py",
   "mimetype": "text/x-python",
   "name": "python",
   "nbconvert_exporter": "python",
   "pygments_lexer": "ipython3",
   "version": "3.11.0"
  }
 },
 "nbformat": 4,
 "nbformat_minor": 2
}
