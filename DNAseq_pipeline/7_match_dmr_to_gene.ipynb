{
 "cells": [
  {
   "cell_type": "code",
   "execution_count": 24,
   "metadata": {},
   "outputs": [],
   "source": [
    "# import packages \n",
    "import awkward as ak\n",
    "import pandas as pd\n",
    "import numpy as np\n",
    "import re\n",
    "import shutil\n",
    "import os\n"
   ]
  },
  {
   "cell_type": "markdown",
   "metadata": {},
   "source": [
    "# 1) Import DMRs for all comparisons "
   ]
  },
  {
   "cell_type": "code",
   "execution_count": 25,
   "metadata": {},
   "outputs": [],
   "source": [
    "# Dictionary to store dmr_subset with their names\n",
    "dmr_subsets = {}\n",
    "\n",
    "# List of input files\n",
    "input_files = ['6_DMRsCG/1_NvsA/1_NvsA.txt', '6_DMRsCG/2_NvsR/2_NvsR.txt', '6_DMRsCG/3_AvsR/3_AvsR.txt']\n",
    "\n",
    "# Process each input file\n",
    "for input_file in input_files:\n",
    "    # Reading data from the input file and converting it to an awkward array\n",
    "    array = []\n",
    "    with open(input_file, 'r') as file:\n",
    "        for line in file:\n",
    "            columns = line.strip().split('\\t')  # Split the line into columns\n",
    "            array.append(columns)\n",
    "\n",
    "    df = ak.from_iter(array)\n",
    "\n",
    "    # Extract column 1, 2, 3\n",
    "    dmr_subset = df[:, [0, 1, 2]]\n",
    "\n",
    "    # Convert to pandas dataframe\n",
    "    dmr_subset = pd.DataFrame(dmr_subset)\n",
    "    dmr_subset.rename(columns={0: 'chr', 1: 'start', 2: 'end'}, inplace=True)\n",
    "\n",
    "    # Convert to int\n",
    "    dmr_subset['start'] = dmr_subset['start'].astype(int)\n",
    "    dmr_subset['end'] = dmr_subset['end'].astype(int)\n",
    "    dmr_subset['chr'] = dmr_subset['chr'].astype(str)\n",
    "\n",
    "    # Assign the name to dmr_subset\n",
    "    subset_name = 'dmr_subset_' + os.path.basename(os.path.dirname(input_file))\n",
    "    dmr_subsets[subset_name] = dmr_subset\n"
   ]
  },
  {
   "cell_type": "code",
   "execution_count": 27,
   "metadata": {},
   "outputs": [
    {
     "data": {
      "text/html": [
       "<div>\n",
       "<style scoped>\n",
       "    .dataframe tbody tr th:only-of-type {\n",
       "        vertical-align: middle;\n",
       "    }\n",
       "\n",
       "    .dataframe tbody tr th {\n",
       "        vertical-align: top;\n",
       "    }\n",
       "\n",
       "    .dataframe thead th {\n",
       "        text-align: right;\n",
       "    }\n",
       "</style>\n",
       "<table border=\"1\" class=\"dataframe\">\n",
       "  <thead>\n",
       "    <tr style=\"text-align: right;\">\n",
       "      <th></th>\n",
       "      <th>chr</th>\n",
       "      <th>start</th>\n",
       "      <th>end</th>\n",
       "    </tr>\n",
       "  </thead>\n",
       "  <tbody>\n",
       "    <tr>\n",
       "      <th>0</th>\n",
       "      <td>ccar_ua02</td>\n",
       "      <td>27087438</td>\n",
       "      <td>27087561</td>\n",
       "    </tr>\n",
       "    <tr>\n",
       "      <th>1</th>\n",
       "      <td>ccar_ua05</td>\n",
       "      <td>9401931</td>\n",
       "      <td>9401987</td>\n",
       "    </tr>\n",
       "    <tr>\n",
       "      <th>2</th>\n",
       "      <td>ccar_ua05</td>\n",
       "      <td>27874305</td>\n",
       "      <td>27874422</td>\n",
       "    </tr>\n",
       "    <tr>\n",
       "      <th>3</th>\n",
       "      <td>ccar_ua09</td>\n",
       "      <td>11672933</td>\n",
       "      <td>11673140</td>\n",
       "    </tr>\n",
       "    <tr>\n",
       "      <th>4</th>\n",
       "      <td>ccar_ua09</td>\n",
       "      <td>32976439</td>\n",
       "      <td>32976654</td>\n",
       "    </tr>\n",
       "    <tr>\n",
       "      <th>5</th>\n",
       "      <td>ccar_ua13</td>\n",
       "      <td>1927577</td>\n",
       "      <td>1927998</td>\n",
       "    </tr>\n",
       "    <tr>\n",
       "      <th>6</th>\n",
       "      <td>ccar_ua13</td>\n",
       "      <td>1927577</td>\n",
       "      <td>1927998</td>\n",
       "    </tr>\n",
       "    <tr>\n",
       "      <th>7</th>\n",
       "      <td>ccar_ua14</td>\n",
       "      <td>1067421</td>\n",
       "      <td>1067644</td>\n",
       "    </tr>\n",
       "    <tr>\n",
       "      <th>8</th>\n",
       "      <td>ccar_ua18</td>\n",
       "      <td>3682678</td>\n",
       "      <td>3682796</td>\n",
       "    </tr>\n",
       "    <tr>\n",
       "      <th>9</th>\n",
       "      <td>ccar_ua18</td>\n",
       "      <td>3682678</td>\n",
       "      <td>3682796</td>\n",
       "    </tr>\n",
       "    <tr>\n",
       "      <th>10</th>\n",
       "      <td>ccar_ua19</td>\n",
       "      <td>20016429</td>\n",
       "      <td>20016780</td>\n",
       "    </tr>\n",
       "    <tr>\n",
       "      <th>11</th>\n",
       "      <td>ccar_ua20</td>\n",
       "      <td>26807016</td>\n",
       "      <td>26807157</td>\n",
       "    </tr>\n",
       "    <tr>\n",
       "      <th>12</th>\n",
       "      <td>ccar_ua20</td>\n",
       "      <td>26807016</td>\n",
       "      <td>26807157</td>\n",
       "    </tr>\n",
       "    <tr>\n",
       "      <th>13</th>\n",
       "      <td>ccar_ua20</td>\n",
       "      <td>29325711</td>\n",
       "      <td>29326113</td>\n",
       "    </tr>\n",
       "    <tr>\n",
       "      <th>14</th>\n",
       "      <td>ccar_ua21</td>\n",
       "      <td>10218882</td>\n",
       "      <td>10219202</td>\n",
       "    </tr>\n",
       "    <tr>\n",
       "      <th>15</th>\n",
       "      <td>ccar_ua23</td>\n",
       "      <td>15038296</td>\n",
       "      <td>15039198</td>\n",
       "    </tr>\n",
       "    <tr>\n",
       "      <th>16</th>\n",
       "      <td>ccar_ua24</td>\n",
       "      <td>3929869</td>\n",
       "      <td>3930210</td>\n",
       "    </tr>\n",
       "    <tr>\n",
       "      <th>17</th>\n",
       "      <td>ccar_ua25</td>\n",
       "      <td>1449736</td>\n",
       "      <td>1449854</td>\n",
       "    </tr>\n",
       "    <tr>\n",
       "      <th>18</th>\n",
       "      <td>ccar_ub02</td>\n",
       "      <td>19884513</td>\n",
       "      <td>19884563</td>\n",
       "    </tr>\n",
       "    <tr>\n",
       "      <th>19</th>\n",
       "      <td>ccar_ub03</td>\n",
       "      <td>39214249</td>\n",
       "      <td>39214474</td>\n",
       "    </tr>\n",
       "    <tr>\n",
       "      <th>20</th>\n",
       "      <td>ccar_ub05</td>\n",
       "      <td>6180379</td>\n",
       "      <td>6180803</td>\n",
       "    </tr>\n",
       "    <tr>\n",
       "      <th>21</th>\n",
       "      <td>ccar_ub10</td>\n",
       "      <td>2860556</td>\n",
       "      <td>2860594</td>\n",
       "    </tr>\n",
       "    <tr>\n",
       "      <th>22</th>\n",
       "      <td>ccar_ub14</td>\n",
       "      <td>10446861</td>\n",
       "      <td>10446929</td>\n",
       "    </tr>\n",
       "    <tr>\n",
       "      <th>23</th>\n",
       "      <td>ccar_ub15</td>\n",
       "      <td>2722780</td>\n",
       "      <td>2723217</td>\n",
       "    </tr>\n",
       "    <tr>\n",
       "      <th>24</th>\n",
       "      <td>ccar_ub15</td>\n",
       "      <td>26893508</td>\n",
       "      <td>26893701</td>\n",
       "    </tr>\n",
       "    <tr>\n",
       "      <th>25</th>\n",
       "      <td>ccar_ub15</td>\n",
       "      <td>29121115</td>\n",
       "      <td>29121551</td>\n",
       "    </tr>\n",
       "    <tr>\n",
       "      <th>26</th>\n",
       "      <td>ccar_ub15</td>\n",
       "      <td>29881119</td>\n",
       "      <td>29881491</td>\n",
       "    </tr>\n",
       "    <tr>\n",
       "      <th>27</th>\n",
       "      <td>ccar_ub19</td>\n",
       "      <td>3441289</td>\n",
       "      <td>3441967</td>\n",
       "    </tr>\n",
       "    <tr>\n",
       "      <th>28</th>\n",
       "      <td>ccar_ub19</td>\n",
       "      <td>21393671</td>\n",
       "      <td>21393761</td>\n",
       "    </tr>\n",
       "    <tr>\n",
       "      <th>29</th>\n",
       "      <td>ccar_ub23</td>\n",
       "      <td>24006166</td>\n",
       "      <td>24006215</td>\n",
       "    </tr>\n",
       "    <tr>\n",
       "      <th>30</th>\n",
       "      <td>ccar_ub25</td>\n",
       "      <td>2347507</td>\n",
       "      <td>2347740</td>\n",
       "    </tr>\n",
       "  </tbody>\n",
       "</table>\n",
       "</div>"
      ],
      "text/plain": [
       "          chr     start       end\n",
       "0   ccar_ua02  27087438  27087561\n",
       "1   ccar_ua05   9401931   9401987\n",
       "2   ccar_ua05  27874305  27874422\n",
       "3   ccar_ua09  11672933  11673140\n",
       "4   ccar_ua09  32976439  32976654\n",
       "5   ccar_ua13   1927577   1927998\n",
       "6   ccar_ua13   1927577   1927998\n",
       "7   ccar_ua14   1067421   1067644\n",
       "8   ccar_ua18   3682678   3682796\n",
       "9   ccar_ua18   3682678   3682796\n",
       "10  ccar_ua19  20016429  20016780\n",
       "11  ccar_ua20  26807016  26807157\n",
       "12  ccar_ua20  26807016  26807157\n",
       "13  ccar_ua20  29325711  29326113\n",
       "14  ccar_ua21  10218882  10219202\n",
       "15  ccar_ua23  15038296  15039198\n",
       "16  ccar_ua24   3929869   3930210\n",
       "17  ccar_ua25   1449736   1449854\n",
       "18  ccar_ub02  19884513  19884563\n",
       "19  ccar_ub03  39214249  39214474\n",
       "20  ccar_ub05   6180379   6180803\n",
       "21  ccar_ub10   2860556   2860594\n",
       "22  ccar_ub14  10446861  10446929\n",
       "23  ccar_ub15   2722780   2723217\n",
       "24  ccar_ub15  26893508  26893701\n",
       "25  ccar_ub15  29121115  29121551\n",
       "26  ccar_ub15  29881119  29881491\n",
       "27  ccar_ub19   3441289   3441967\n",
       "28  ccar_ub19  21393671  21393761\n",
       "29  ccar_ub23  24006166  24006215\n",
       "30  ccar_ub25   2347507   2347740"
      ]
     },
     "execution_count": 27,
     "metadata": {},
     "output_type": "execute_result"
    }
   ],
   "source": [
    "dmr_subset"
   ]
  },
  {
   "cell_type": "markdown",
   "metadata": {},
   "source": [
    "# 2) Import gene annotation"
   ]
  },
  {
   "cell_type": "code",
   "execution_count": null,
   "metadata": {},
   "outputs": [],
   "source": [
    "# import ccar_annotation.gtf as pd df \n",
    "import pandas as pd \n",
    "\n",
    "annotation = pd.read_csv('7_match_dmr_to_gene/ccar_annotation.gtf', sep='\\t', skiprows=1, header=None)\n",
    "# renaming the header of the annotation file\n",
    "annotation = annotation.rename({0: 'seqname',\n",
    "                                1: 'source',\n",
    "                                2: 'feature',\n",
    "                                3: 'start',\n",
    "                                4: 'stop',\n",
    "                                5: 'score',\n",
    "                                6: 'strand',\n",
    "                                7: 'frame',\n",
    "                                8: 'attribute'}, axis=1)\n",
    "\n",
    "    \n",
    "# define a function to extract the geneid\n",
    "def extract_gene_id(attributes):\n",
    "    # Using a regular expression to match and extract the desired part\n",
    "    match = re.search(r'gene_id \"([^\"]+)\"', attributes)\n",
    "    if match:\n",
    "        return match.group(1)\n",
    "    else:\n",
    "        return 0 # Return 0 if there is no match\n",
    "    \n",
    "# filtering the column feature for transcritps\n",
    "annotation = annotation[annotation['feature'] == 'transcript']\n",
    "# Apply the function to the \"attributes\" column and create a new column with the extracted gene ids\n",
    "annotation['gene_id'] = annotation['attribute'].apply(extract_gene_id)"
   ]
  },
  {
   "cell_type": "markdown",
   "metadata": {},
   "source": [
    "# 3) Add 2000 bp to start and stop of gene id's to simulate UTRs (untranslated regions) "
   ]
  },
  {
   "cell_type": "code",
   "execution_count": null,
   "metadata": {},
   "outputs": [
    {
     "name": "stderr",
     "output_type": "stream",
     "text": [
      "/tmp/ipykernel_3993/1375675161.py:4: SettingWithCopyWarning: \n",
      "A value is trying to be set on a copy of a slice from a DataFrame.\n",
      "Try using .loc[row_indexer,col_indexer] = value instead\n",
      "\n",
      "See the caveats in the documentation: https://pandas.pydata.org/pandas-docs/stable/user_guide/indexing.html#returning-a-view-versus-a-copy\n",
      "  anno_subset['start_2000'] = anno_subset['start'] - 2000\n",
      "/tmp/ipykernel_3993/1375675161.py:6: SettingWithCopyWarning: \n",
      "A value is trying to be set on a copy of a slice from a DataFrame.\n",
      "Try using .loc[row_indexer,col_indexer] = value instead\n",
      "\n",
      "See the caveats in the documentation: https://pandas.pydata.org/pandas-docs/stable/user_guide/indexing.html#returning-a-view-versus-a-copy\n",
      "  anno_subset['start_2000'] = np.where(anno_subset['start_2000'] < 0, 0, anno_subset['start_2000'])\n",
      "/tmp/ipykernel_3993/1375675161.py:8: SettingWithCopyWarning: \n",
      "A value is trying to be set on a copy of a slice from a DataFrame.\n",
      "Try using .loc[row_indexer,col_indexer] = value instead\n",
      "\n",
      "See the caveats in the documentation: https://pandas.pydata.org/pandas-docs/stable/user_guide/indexing.html#returning-a-view-versus-a-copy\n",
      "  anno_subset['stop_2000'] = anno_subset['stop'] + 2000\n"
     ]
    }
   ],
   "source": [
    "# extract seqname , start and stop column \n",
    "anno_subset = annotation[['seqname', 'start', 'stop', 'gene_id']]\n",
    "# create new column called \"start_2000\"\n",
    "anno_subset['start_2000'] = anno_subset['start'] - 2000\n",
    "# check if any value is negative and replace it with 0\n",
    "anno_subset['start_2000'] = np.where(anno_subset['start_2000'] < 0, 0, anno_subset['start_2000'])\n",
    "# create new column called \"stop_2000\"\n",
    "anno_subset['stop_2000'] = anno_subset['stop'] + 2000"
   ]
  },
  {
   "cell_type": "markdown",
   "metadata": {},
   "source": [
    "# 4) Identify if DMR is within gene borders --> append geneid to list "
   ]
  },
  {
   "cell_type": "code",
   "execution_count": null,
   "metadata": {},
   "outputs": [],
   "source": [
    "# Dictionary to store the result_transcript_ids with their names\n",
    "result_transcript_ids_dict = {}\n",
    "\n",
    "# Check conditions and extract transcript_id for each dmr_subset\n",
    "for subset_name, dmr_subset in dmr_subsets.items():\n",
    "    result_transcript_ids = []\n",
    "    comparison = subset_name.split('_')[-1]  # Get the comparison type (NvsA = 1, NvsR = 2, or AvsR = 3)\n",
    "    for index, row in dmr_subset.iterrows():\n",
    "        chr_val = row['chr']\n",
    "        start_val = row['start']\n",
    "        end_val = row['end']\n",
    "        relevant_anno_subset = anno_subset[(anno_subset['seqname'] == chr_val) & (anno_subset['start_2000'] <= start_val) & (anno_subset['stop_2000'] >= end_val)]\n",
    "        \n",
    "        # Append transcript_id to the result_transcript_ids list\n",
    "        if not relevant_anno_subset.empty:\n",
    "            result_transcript_ids.extend(relevant_anno_subset['gene_id'].tolist())\n",
    "    \n",
    "    # Assign the result_transcript_ids to a specific name with the comparison type\n",
    "    result_name = f\"{comparison}\"\n",
    "    result_transcript_ids_dict[result_name] = result_transcript_ids\n"
   ]
  },
  {
   "cell_type": "code",
   "execution_count": null,
   "metadata": {},
   "outputs": [
    {
     "name": "stdout",
     "output_type": "stream",
     "text": [
      "NvsA: 35\n",
      "NvsR: 58\n",
      "AvsR: 25\n"
     ]
    }
   ],
   "source": [
    "# check how many dmrs are within gene borders. \n",
    "print('NvsA:', len(set(result_transcript_ids_dict['NvsA'])))\n",
    "print('NvsR:', len(set(result_transcript_ids_dict['NvsR'])))\n",
    "print('AvsR:', len(set(result_transcript_ids_dict['AvsR'])))"
   ]
  },
  {
   "cell_type": "code",
   "execution_count": 31,
   "metadata": {},
   "outputs": [],
   "source": [
    "# export the set(result_transcript_ids_dict['XvsX']) to a file\n",
    "with open('7_match_dmr_to_gene/NvsA_gene_ids.txt', 'w') as file:\n",
    "    for item in set(result_transcript_ids_dict['NvsA']):\n",
    "        file.write(\"%s\\n\" % item)\n",
    "with open('7_match_dmr_to_gene/NvsR_gene_ids.txt', 'w') as file:\n",
    "    for item in set(result_transcript_ids_dict['NvsR']):\n",
    "        file.write(\"%s\\n\" % item)\n",
    "with open('7_match_dmr_to_gene/AvsR_gene_ids.txt', 'w') as file:\n",
    "    for item in set(result_transcript_ids_dict['AvsR']):\n",
    "        file.write(\"%s\\n\" % item)\n",
    "    "
   ]
  },
  {
   "cell_type": "markdown",
   "metadata": {},
   "source": [
    "# 5) Correlate to DEGs"
   ]
  },
  {
   "cell_type": "code",
   "execution_count": null,
   "metadata": {},
   "outputs": [],
   "source": [
    "# import deg data from RNA pipeline \n",
    "deg_NvsA = pd.read_csv('/home/maggy/WholeGenomeBisulphiteSequencing/RNAseq_pipeline/11_identify_DEG/deg_na.txt', sep=',')\n",
    "deg_NvsR = pd.read_csv('/home/maggy/WholeGenomeBisulphiteSequencing/RNAseq_pipeline/11_identify_DEG/deg_nr.txt', sep=',')\t\n",
    "deg_AvsR = pd.read_csv('/home/maggy/WholeGenomeBisulphiteSequencing/RNAseq_pipeline/11_identify_DEG/deg_ar.txt', sep=',')"
   ]
  },
  {
   "cell_type": "code",
   "execution_count": null,
   "metadata": {},
   "outputs": [
    {
     "name": "stdout",
     "output_type": "stream",
     "text": [
      "529\n",
      "210\n",
      "232\n"
     ]
    }
   ],
   "source": [
    "deg_na = set(deg_NvsA['Unnamed: 0'])\n",
    "deg_nr = set(deg_NvsR['Unnamed: 0'])\n",
    "deg_ar = set(deg_AvsR['Unnamed: 0'])\n",
    "\n",
    "print(len(deg_na))\n",
    "print(len(deg_nr))\n",
    "print(len(deg_ar))"
   ]
  },
  {
   "cell_type": "code",
   "execution_count": null,
   "metadata": {},
   "outputs": [
    {
     "data": {
      "text/plain": [
       "1"
      ]
     },
     "execution_count": 9,
     "metadata": {},
     "output_type": "execute_result"
    }
   ],
   "source": [
    "len(deg_na.intersection(set(result_transcript_ids_dict['NvsA'])))"
   ]
  },
  {
   "cell_type": "code",
   "execution_count": null,
   "metadata": {},
   "outputs": [
    {
     "data": {
      "text/plain": [
       "1"
      ]
     },
     "execution_count": 10,
     "metadata": {},
     "output_type": "execute_result"
    }
   ],
   "source": [
    "len(deg_nr.intersection(set(result_transcript_ids_dict['NvsR'])))"
   ]
  },
  {
   "cell_type": "code",
   "execution_count": null,
   "metadata": {},
   "outputs": [
    {
     "data": {
      "text/plain": [
       "0"
      ]
     },
     "execution_count": 11,
     "metadata": {},
     "output_type": "execute_result"
    }
   ],
   "source": [
    "len(deg_ar.intersection(set(result_transcript_ids_dict['AvsR'])))"
   ]
  },
  {
   "cell_type": "code",
   "execution_count": null,
   "metadata": {},
   "outputs": [],
   "source": []
  }
 ],
 "metadata": {
  "kernelspec": {
   "display_name": "methylscore",
   "language": "python",
   "name": "python3"
  },
  "language_info": {
   "codemirror_mode": {
    "name": "ipython",
    "version": 3
   },
   "file_extension": ".py",
   "mimetype": "text/x-python",
   "name": "python",
   "nbconvert_exporter": "python",
   "pygments_lexer": "ipython3",
   "version": "3.11.0"
  }
 },
 "nbformat": 4,
 "nbformat_minor": 2
}
