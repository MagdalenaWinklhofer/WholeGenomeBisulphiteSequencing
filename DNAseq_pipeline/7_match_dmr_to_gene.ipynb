{
 "cells": [
  {
   "cell_type": "code",
   "execution_count": 1,
   "metadata": {},
   "outputs": [],
   "source": [
    "# import packages \n",
    "import awkward as ak\n",
    "import pandas as pd\n",
    "import numpy as np\n",
    "import re\n",
    "import shutil\n",
    "import os\n",
    "import matplotlib.pyplot as plt\n",
    "import seaborn as sns\n",
    "import json \n",
    "import matplotlib.pyplot as plt\n",
    "from matplotlib_venn import venn2_unweighted\n",
    "from matplotlib_venn import venn3, venn3_unweighted, venn3_circles"
   ]
  },
  {
   "cell_type": "markdown",
   "metadata": {},
   "source": [
    "# 1) Import DMRs for all comparisons "
   ]
  },
  {
   "cell_type": "code",
   "execution_count": 2,
   "metadata": {},
   "outputs": [],
   "source": [
    "def read_methylscore(input_file)->ak.Array:\n",
    "    \"\"\"Read the filtered output methylscore into an akward array\"\"\"\n",
    "    # Reading data from the input file and converting it to an awkward array\n",
    "    array = []\n",
    "    with open(input_file, 'r') as file:\n",
    "        for line in file:\n",
    "            columns = line.strip().split('\\t')  # Split the line into columns\n",
    "            array.append(columns)\n",
    "    return ak.from_iter(array)"
   ]
  },
  {
   "cell_type": "code",
   "execution_count": 3,
   "metadata": {},
   "outputs": [],
   "source": [
    "# Dictionary to store dmr_subset with their names\n",
    "dmr_subsets = {}\n",
    "\n",
    "# create an input file dict \n",
    "input_files = {'NvsA': '6_DMRsCG/1_NvsA/NvsA.txt', 'NvsR': '6_DMRsCG/2_NvsR/NvsR.txt', 'AvsR': '6_DMRsCG/3_AvsR/AvsR.txt'}\n",
    "\n",
    "# Process each input file\n",
    "for input_file in input_files.values():\n",
    "    df = read_methylscore(input_file)\n",
    "\n",
    "    # Extract column 1, 2, 3\n",
    "    dmr_subset = df[:, [0, 1, 2]]\n",
    "\n",
    "    # Convert to pandas dataframe\n",
    "    dmr_subset = pd.DataFrame(dmr_subset)\n",
    "    dmr_subset.rename(columns={0: 'chr', 1: 'start', 2: 'end'}, inplace=True)\n",
    "\n",
    "    # Convert to int\n",
    "    dmr_subset['start'] = dmr_subset['start'].astype(int)\n",
    "    dmr_subset['end'] = dmr_subset['end'].astype(int)\n",
    "    dmr_subset['chr'] = dmr_subset['chr'].astype(str)\n",
    "\n",
    "    # Assign the name to dmr_subset\n",
    "    subset_name = os.path.basename(os.path.dirname(input_file)).split('_')[-1] \n",
    "    dmr_subsets[subset_name] = dmr_subset\n"
   ]
  },
  {
   "cell_type": "markdown",
   "metadata": {},
   "source": [
    "# 2) Import gene annotation"
   ]
  },
  {
   "cell_type": "code",
   "execution_count": 4,
   "metadata": {},
   "outputs": [],
   "source": [
    "# import ccar_annotation.gtf as pd df \n",
    "import pandas as pd \n",
    "\n",
    "annotation = pd.read_csv('/home/maggy/WholeGenomeBisulphiteSequencing/DNAseq_pipeline/7_match_dmr_to_gene/carcar_annotation_v5.gtf', sep='\\t', comment='#', header=None)\n",
    "# renaming the header of the annotation file\n",
    "annotation = annotation.rename({0: 'seqname',\n",
    "                                1: 'source',\n",
    "                                2: 'feature',\n",
    "                                3: 'start',\n",
    "                                4: 'stop',\n",
    "                                5: 'score',\n",
    "                                6: 'strand',\n",
    "                                7: 'frame',\n",
    "                                8: 'attribute'}, axis=1)\n",
    "\n",
    "    \n",
    "# define a function to extract the geneid\n",
    "def extract_gene_id(attributes):\n",
    "    # Using a regular expression to match and extract the desired part\n",
    "    match = re.search(r'gene_id \"([^\"]+)\"', attributes)\n",
    "    if match:\n",
    "        return match.group(1)\n",
    "    else:\n",
    "        return 0 # Return 0 if there is no match\n",
    "    \n",
    "# filtering the column feature for transcritps\n",
    "annotation = annotation[annotation['feature'] == 'transcript']\n",
    "\n",
    "# Apply the function to the \"attributes\" column and create a new column with the extracted gene ids\n",
    "annotation['gene_id'] = annotation['attribute'].apply(extract_gene_id)\n",
    "\n",
    "# DEDUPLICATE \n",
    "# since a gene has multiple transcripts you have to deduplicate the geneids \n",
    "# calculate trascript length \n",
    "annotation['length'] = annotation['stop'] - annotation['start']\n",
    "# sort annotation for geneid and transcript length (length is sorted ascending) \n",
    "annotation = annotation.sort_values(['gene_id','length'])\n",
    "# deduplicate to keep the gene id with the longest transcript length \n",
    "annotation = annotation.drop_duplicates(subset=['gene_id'], keep='last')"
   ]
  },
  {
   "cell_type": "markdown",
   "metadata": {},
   "source": [
    "# 3) Add 5% bp to start and stop of gene id's to simulate UTRs (untranslated regions) "
   ]
  },
  {
   "cell_type": "code",
   "execution_count": 6,
   "metadata": {},
   "outputs": [],
   "source": [
    "# extract seqname , start and stop column \n",
    "annotation = annotation[['seqname', 'start', 'stop', 'gene_id', 'length']]\n",
    "# create new column called \"start_5\" (decrease the start value about 5% of the gene length (in bp) to include promotor sequences)\n",
    "annotation['start_5'] = (annotation['start'] - (annotation['length'] * 0.05)).astype(int)\n",
    "# check if any value is negative and replace it with 0\n",
    "annotation['start_5'] = np.where(annotation['start_5'] < 0, 0, annotation['start_5'])\n",
    "# create new column called \"stop_5\" (increase the stop value by 5% of the gene length (in bp) to include ploy AAA tales)\n",
    "annotation['stop_5'] = (annotation['stop'] + (annotation['length'] * 0.05)).astype(int)"
   ]
  },
  {
   "cell_type": "markdown",
   "metadata": {},
   "source": [
    "# 4) Identify if DMR is within gene borders --> append geneid to list "
   ]
  },
  {
   "cell_type": "code",
   "execution_count": 7,
   "metadata": {},
   "outputs": [],
   "source": [
    "\n",
    "# define function to append relevant information to dmrs\n",
    "def append_info(dmr_df:pd.DataFrame, index:int, annotation:pd.DataFrame, list_to_append:list)->None:\n",
    "    \"\"\"Append relevant information of one row to the list_to_append.\n",
    "    \n",
    "    Parameters:\n",
    "    -----------\n",
    "    dmr_df: pd.DataFrame\n",
    "        The dataframe containing the DMRs.\n",
    "    index: int\n",
    "        The index of the DMR to append.\n",
    "    annotation: pd.DataFrame\n",
    "        The dataframe containing the relvant line of the annotation.\"\"\"\n",
    "    line = pd.DataFrame(dmr_df.loc[index]).T            \n",
    "    line['gene_id'] = annotation['gene_id'].values[0]\n",
    "    line['start_5'] = annotation['start_5'].values[0]\n",
    "    line['stop_5'] = annotation['stop_5'].values[0]\n",
    "    line['start_0'] = annotation['start'].values[0]\n",
    "    line['stop_0'] = annotation['stop'].values[0]\n",
    "    list_to_append.append(line)\n",
    "\n",
    "\n",
    "dmr_withinGeneBorder = {}\n",
    "\n",
    "for subset_name, dmr_subset in dmr_subsets.items():\n",
    "    temp = [] # list if dmrs hit more than 1 gene id \n",
    "    for index, row in dmr_subset.iterrows():\n",
    "        relevant_annotation = annotation[(annotation['seqname'] == row['chr']) & (annotation['start_5'] <= row['start']) & (annotation['stop_5'] >= row['end'])]\n",
    "        if len(relevant_annotation) == 1:\n",
    "            append_info(dmr_subset, index, relevant_annotation, temp)\n",
    "        elif len(relevant_annotation) > 1: # if a dmr hits more gene ids \n",
    "            for i,line in relevant_annotation.iterrows():\n",
    "                append_info(dmr_subset, index, pd.DataFrame(line).T, temp)\n",
    "    dmr_withinGeneBorder[subset_name] = pd.concat(temp)"
   ]
  },
  {
   "cell_type": "code",
   "execution_count": 8,
   "metadata": {},
   "outputs": [],
   "source": [
    "# export the dataframes to csv files\n",
    "dmr_withinGeneBorder['NvsA'].to_csv('7_match_dmr_to_gene/dmr_within_geneborders/dmr_withinGeneBorder_NvsA.csv', sep=',', index=False)\n",
    "dmr_withinGeneBorder['NvsR'].to_csv('7_match_dmr_to_gene/dmr_within_geneborders/dmr_withinGeneBorder_NvsR.csv', sep=',', index=False)\n",
    "dmr_withinGeneBorder['AvsR'].to_csv('7_match_dmr_to_gene/dmr_within_geneborders/dmr_withinGeneBorder_AvsR.csv', sep=',', index=False)"
   ]
  },
  {
   "cell_type": "code",
   "execution_count": 9,
   "metadata": {},
   "outputs": [],
   "source": [
    "# select unique geneids from the dmr_withinGeneBorder output\n",
    "geneid_unique = {}\n",
    "for name,df in dmr_withinGeneBorder.items():\n",
    "    geneid_unique[name] = df['gene_id'].unique().tolist()\n",
    "# export list of unique geneids to json file\n",
    "with open(f'7_match_dmr_to_gene/dmr_within_geneborders_genelist/dmr_unique_geneids.json', 'w') as file:\n",
    "    json.dump(geneid_unique, file)\n",
    "# export list of unique geneids to csv file \n",
    "pd.DataFrame(geneid_unique['NvsA']).rename(columns={0:'geneid'}).to_csv('7_match_dmr_to_gene/dmr_within_geneborders_genelist/dmr_withinGeneBorder_NvsA_geneids.csv', sep=',', index=False)\n",
    "pd.DataFrame(geneid_unique['NvsR']).rename(columns={0:'geneid'}).to_csv('7_match_dmr_to_gene/dmr_within_geneborders_genelist/dmr_withinGeneBorder_NvsR_geneids.csv', sep=',', index=False)\n",
    "pd.DataFrame(geneid_unique['AvsR']).rename(columns={0:'geneid'}).to_csv('7_match_dmr_to_gene/dmr_within_geneborders_genelist/dmr_withinGeneBorder_AvsR_geneids.csv', sep=',', index=False)"
   ]
  },
  {
   "cell_type": "markdown",
   "metadata": {},
   "source": [
    "# 5 Venn diagram: overlapping DMR geneids "
   ]
  },
  {
   "cell_type": "code",
   "execution_count": null,
   "metadata": {},
   "outputs": [],
   "source": [
    "# Venn diagram of overlapping DMRs within gene borders\n",
    "sns.set_theme(style = 'whitegrid', context='paper', rc={'axes.labelsize':8, 'xtick.labelsize':8, 'ytick.labelsize':8, 'legend.fontsize':8, 'legend.title_fontsize':8})\n",
    "plt.figure(figsize=(7.5/2.54, 4.25/2.54))\n",
    "v = venn3([set(geneid_unique['NvsA']), \n",
    "           set(geneid_unique['NvsR']), \n",
    "           set(geneid_unique['AvsR'])], \n",
    "           set_labels=('N to A', 'N to R', 'A to R'), \n",
    "           set_colors=(\"#1A4870\", \"#1A4870\", \"#1A4870\"))\n",
    "# plt.title('Differentially Methylated Genes')\n",
    "for text in v.set_labels:\n",
    "    text.set_fontsize(8)\n",
    "venn3_circles([set(geneid_unique['NvsA']), \n",
    "           set(geneid_unique['NvsR']), \n",
    "           set(geneid_unique['AvsR'])], \n",
    "           linewidth=0.1, color='black')\n",
    "\n",
    "plt.savefig('7_match_dmr_to_gene/venn_dmr_withinGeneBorder_overlapping.svg')"
   ]
  },
  {
   "cell_type": "code",
   "execution_count": null,
   "metadata": {},
   "outputs": [],
   "source": [
    "# check how many dmrs are within gene borders. \n",
    "number_of_transcripts = {}\n",
    "for name, df in geneid_unique.items():\n",
    "    number_of_transcripts[name] = len(df)\n",
    "    print(name, number_of_transcripts[name])\n",
    "\n"
   ]
  },
  {
   "cell_type": "markdown",
   "metadata": {},
   "source": [
    "# 5) PLOT - Barplot (number of dmr within genes)"
   ]
  },
  {
   "cell_type": "code",
   "execution_count": null,
   "metadata": {},
   "outputs": [],
   "source": [
    "# PLOT\n",
    "# Sample data\n",
    "categories = number_of_transcripts.keys()\n",
    "values = number_of_transcripts.values()\n",
    "\n",
    "# Create a bar plot\n",
    "sns.set_theme(palette = 'colorblind', style = 'whitegrid', context='paper', rc={'axes.labelsize':8, 'xtick.labelsize':8, 'ytick.labelsize':8, 'legend.fontsize':8, 'legend.title_fontsize':8})\n",
    "plt.figure(figsize=((9.5/2.54), (4.25/2.54)))\n",
    "plt.bar(categories, values, color='skyblue')\n",
    "#plt.title(\"Differentially Methylated Regions (DMR) within Gene Borders\")\n",
    "plt.xlabel(\"Comparisons\")\n",
    "plt.ylabel(\"Number of Genes\\nwith DMRs within\\nGene Borders\")\n",
    "\n",
    "# Add labels to the bars\n",
    "for i, value in enumerate(values):\n",
    "    plt.text(i, value + 1, str(abs(value)), ha='center', va='bottom', color='black')\n",
    "\n",
    "# change the color of the bars (first two: blue, second two: red, third two: green)\n",
    "plt.bar(range(len(number_of_transcripts)), list(number_of_transcripts.values()), align='center', color='#99B1BD')\n",
    "\n",
    "# y scale \n",
    "plt.ylim(-10, 35)\n",
    "# remove x scale\n",
    "plt.xticks([])\n",
    "\n",
    "# add a label in the center of the first two bars \n",
    "plt.text(0, -5, 'Normoxia to\\nAnoxia', ha='center', va='center', color='black', fontsize=8)\n",
    "plt.text(1, -5, 'Normoxia to\\nReoxygenation', ha='center', va='center', color='black', fontsize=8)\n",
    "plt.text(2, -5, 'Anoxia to\\nReoxygenation', ha='center', va='center', color='black', fontsize=8)\n",
    "\n",
    "\n",
    "# add a 0 line \n",
    "# the line should be slim and grey\n",
    "plt.axhline(y=0, color='grey', linestyle='-', linewidth=0.5)\n",
    "\n",
    "plt.tight_layout()\n",
    "# Save the figure as a high-quality image (e.g., PNG or PDF)\n",
    "plt.savefig('7_match_dmr_to_gene/DMR_within_geneborders.svg')\n",
    "\n",
    "# Show the plot\n",
    "plt.show()\n"
   ]
  },
  {
   "cell_type": "markdown",
   "metadata": {},
   "source": [
    "# 6) Location of DMR within Genes"
   ]
  },
  {
   "cell_type": "code",
   "execution_count": 13,
   "metadata": {},
   "outputs": [],
   "source": [
    "# check if DMR are before or after gene start \n",
    "for subset_name, dmr_subset in dmr_withinGeneBorder.items():\n",
    "    dmr_withinGeneBorder[subset_name]['dmr_before_gene'] =  dmr_subset['end'] < dmr_subset['start_0']\n",
    "    dmr_withinGeneBorder[subset_name]['dmr_after_gene'] =  dmr_subset['start'] > dmr_subset['stop_0']\n",
    "    dmr_withinGeneBorder[subset_name]['dmr_inside_gene'] =  (dmr_subset['start'] > dmr_subset['start_0']) & (dmr_subset['end'] < dmr_subset['stop_0'])\n",
    "    dmr_withinGeneBorder[subset_name]['dmr_overlap_start'] =  (dmr_subset['start'] < dmr_subset['start_0']) & (dmr_subset['end'] < dmr_subset['stop_0'])\n",
    "    dmr_withinGeneBorder[subset_name]['dmr_overlap_end'] =  (dmr_subset['start'] < dmr_subset['stop_0']) & (dmr_subset['end'] > dmr_subset['stop_0'])\n",
    "    dmr_withinGeneBorder[subset_name]['dmr_overlap_both'] =  (dmr_subset['start'] < dmr_subset['start_0']) & (dmr_subset['end'] > dmr_subset['stop_0'])\n",
    "    "
   ]
  },
  {
   "cell_type": "code",
   "execution_count": null,
   "metadata": {},
   "outputs": [],
   "source": [
    "import matplotlib.pyplot as plt\n",
    "import seaborn as sns\n",
    "\n",
    "sns.set_theme(style = 'whitegrid', context='paper', rc={'axes.labelsize':8, 'xtick.labelsize':8, 'ytick.labelsize':8, 'legend.fontsize':8, 'legend.title_fontsize':8})\n",
    "\n",
    "# Define the x and y data for the bars\n",
    "categories = ['Before\\nStart', 'Over-\\nlapping\\nStart', 'Inside\\nGene', 'Over-\\nlapping\\nStop', 'After\\nStop', 'Over-\\nlapping\\nBoth']\n",
    "\n",
    "# Create subplots\n",
    "fig, axs = plt.subplots(3, 1, figsize=((7.8/2.54), (12.75/2.54)), sharex=True, sharey=True)\n",
    "\n",
    "# rename subplots \n",
    "names = {'NvsA': 'Normoxia to Anoxia', 'NvsR': 'Normoxia to Reoxygenation', 'AvsR': 'Anoxia to Reoxygenation'}\n",
    "\n",
    "for i, (subset_name, dmr_subset) in enumerate(dmr_withinGeneBorder.items()): \n",
    "    values = [\n",
    "        dmr_subset['dmr_before_gene'].sum(), \n",
    "        dmr_subset['dmr_overlap_start'].sum(), \n",
    "        dmr_subset['dmr_inside_gene'].sum(),\n",
    "        dmr_subset['dmr_overlap_end'].sum(),\n",
    "        dmr_subset['dmr_after_gene'].sum(), \n",
    "        dmr_subset['dmr_overlap_both'].sum()\n",
    "    ]\n",
    "    sns.barplot(\n",
    "        ax=axs[i], \n",
    "        x=categories, \n",
    "        y=values,\n",
    "        color='#99B1BD'\n",
    "    )\n",
    "\n",
    "    axs[i].set_title(f\"{names[subset_name]}\", fontsize=8)\t\n",
    "    axs[i].set_ylim(0, 19)\n",
    "    \n",
    "    # Annotate the bars with the values if value is not zero\n",
    "    for j, value in enumerate(values):\n",
    "        if value != 0:\n",
    "            axs[i].text(\n",
    "                j, \n",
    "                value, \n",
    "                f'{value}', \n",
    "                ha='center', \n",
    "                va='bottom'\n",
    "            )\n",
    "\n",
    "# Set the xlabel only on the last subplot\n",
    "axs[-1].set_xlabel('Categories')\n",
    "axs[1].set_ylabel(\"Number of DMRs in Category\")\n",
    "\n",
    "\n",
    "plt.tight_layout()\n",
    "\n",
    "# export \n",
    "plt.savefig('7_match_dmr_to_gene/DMR_location_within_geneborders.svg')\n",
    "plt.show()\n"
   ]
  },
  {
   "cell_type": "markdown",
   "metadata": {},
   "source": [
    "# 7) How many DMR hit gene ids "
   ]
  },
  {
   "cell_type": "code",
   "execution_count": null,
   "metadata": {},
   "outputs": [],
   "source": [
    "import matplotlib.pyplot as plt\n",
    "\n",
    "# Create a figure and 3 subplots in a 3x1 grid\n",
    "sns.set_theme(style = 'whitegrid', context='paper', rc={'axes.labelsize':8, 'xtick.labelsize':8, 'ytick.labelsize':8, 'legend.fontsize':8, 'legend.title_fontsize':8})\n",
    "fig, axs = plt.subplots(3, 1, figsize=((3/2.54), (12.75/2.54)))\n",
    "\n",
    "# Define the colors for the pie charts\n",
    "colors = ['#99B1BD', 'lightslategray']\n",
    "\n",
    "# rename subplots\n",
    "names = {'NvsA': 'Normoxia to\\nAnoxia', 'NvsR': 'Normoxia to\\nReoxygenation', 'AvsR': 'Anoxia to\\nReoxygenation'}\n",
    "\n",
    "# Iterate over the dmr_withinGeneBorder items\n",
    "for i, (subset_name, dmr_subset) in enumerate(dmr_withinGeneBorder.items()): \n",
    "    ax = axs[i]\n",
    "    # Calculate the value counts\n",
    "    value_counts = dmr_subset.groupby('gene_id')['gene_id'].transform('count').value_counts()\n",
    "    # Plot the pie chart\n",
    "    wedges, texts, autotexts = ax.pie(\n",
    "        value_counts, \n",
    "        labels=value_counts.index, \n",
    "        autopct='%1.1f%%',\n",
    "        textprops=dict(color=\"k\", fontsize=8),\n",
    "        colors=colors,\n",
    "        pctdistance=0.4\t\n",
    "    )\n",
    "    ax.set_title(f\"{names[subset_name]}\", fontsize=8)\n",
    "    #ax.legend(wedges, value_counts.index, title=\"Counts\", loc=\"center left\", bbox_to_anchor=(1, 0, 0.5, 1))\n",
    "\n",
    "# Adjust subplot parameters\n",
    "plt.tight_layout()\n",
    "# Save the figure\n",
    "plt.savefig('7_match_dmr_to_gene/DMRs_per_geneid_distribution.svg')\n",
    "plt.show()\n"
   ]
  },
  {
   "cell_type": "markdown",
   "metadata": {},
   "source": [
    "# 8) Correlate to DEGs"
   ]
  },
  {
   "cell_type": "code",
   "execution_count": null,
   "metadata": {},
   "outputs": [],
   "source": [
    "# import deg data from RNA pipeline \n",
    "deg_NvsA = pd.read_csv('/home/maggy/WholeGenomeBisulphiteSequencing/RNAseq_pipeline/11_identify_DEG/deg_na.csv', sep=',')\n",
    "deg_NvsR = pd.read_csv('/home/maggy/WholeGenomeBisulphiteSequencing/RNAseq_pipeline/11_identify_DEG/deg_nr.csv', sep=',')\t\n",
    "deg_AvsR = pd.read_csv('/home/maggy/WholeGenomeBisulphiteSequencing/RNAseq_pipeline/11_identify_DEG/deg_ar.csv', sep=',')\n",
    "# select gene id column \n",
    "deg_na = set(deg_NvsA['Unnamed: 0'])\n",
    "deg_nr = set(deg_NvsR['Unnamed: 0'])\n",
    "deg_ar = set(deg_AvsR['Unnamed: 0'])\n",
    "\n",
    "print(len(deg_na))\n",
    "print(len(deg_nr))\n",
    "print(len(deg_ar))"
   ]
  },
  {
   "cell_type": "code",
   "execution_count": 17,
   "metadata": {},
   "outputs": [],
   "source": [
    "# Correlation of DEG and DMR \n",
    "correlationNA = pd.DataFrame(deg_na.intersection(geneid_unique['NvsA']))\n",
    "correlationNR = pd.DataFrame(deg_nr.intersection(geneid_unique['NvsR']))\n",
    "correlationAR = pd.DataFrame(deg_ar.intersection(geneid_unique['AvsR']))"
   ]
  },
  {
   "cell_type": "markdown",
   "metadata": {},
   "source": [
    "# 9) Venn diagram (DMR vs DEG) "
   ]
  },
  {
   "cell_type": "code",
   "execution_count": null,
   "metadata": {},
   "outputs": [],
   "source": [
    "# Sample data for Venn diagrams\n",
    "# DMS data\n",
    "DMR_na = set(geneid_unique['NvsA'])\n",
    "DMR_nr = set(geneid_unique['NvsR'])\n",
    "DMR_ar = set(geneid_unique['AvsR'])\n",
    "# DEG data \n",
    "DEG_na = deg_na\n",
    "DEG_nr = deg_nr\n",
    "DEG_ar = deg_ar\n",
    "\n",
    "# Create a figure with three subplots\n",
    "sns.set_theme(style = 'whitegrid', context='paper', rc={'axes.labelsize':8, 'xtick.labelsize':8, 'ytick.labelsize':8, 'legend.fontsize':8, 'legend.title_fontsize':8})\n",
    "fig, axes = plt.subplots(1, 3, figsize=((12/2.54), (4.25/2.54)))\n",
    "\n",
    "# Plot Venn diagrams in each subplot\n",
    "v1 = venn2_unweighted([DMR_na, DEG_na], set_labels=('DMR', 'DEG'), ax=axes[0], alpha=1, set_colors=('#99B1BD','#AFD198'), normalize_to=1.0)\n",
    "v2 = venn2_unweighted([DMR_nr, DEG_nr], set_labels=('DMR', 'DEG'), ax=axes[1], alpha=1, set_colors=('#99B1BD','#AFD198'), normalize_to=1.0)\n",
    "v3 = venn2_unweighted([DMR_ar, DEG_ar], set_labels=('DMR', 'DEG'), ax=axes[2], alpha=1, set_colors=('#99B1BD','#AFD198'), normalize_to=1.0)\n",
    "v = [v1, v2, v3]\n",
    "for element in v: \n",
    "    for text in element.set_labels:\n",
    "        text.set_fontsize(8)\n",
    "\n",
    "\n",
    "# add titles to the subplots\n",
    "axes[0].set_title('Normoxia\\nto Anoxia', fontsize=8)\n",
    "axes[1].set_title('Normoxia to\\nReoxygenation', fontsize=8)\n",
    "axes[2].set_title('Anoxia to\\nReoxygenation', fontsize=8)\n",
    "\n",
    "# Add titles in center \n",
    "#fig.suptitle('Differentially Methylated Regions (DMR) vs Differentially Expressed Genes (DEG)', fontsize=16)\n",
    "plt.tight_layout()\n",
    "# Save the figure as a high-quality image (e.g., PNG or PDF)\n",
    "plt.savefig('7_match_dmr_to_gene/DMR_vs_DEG_venn.svg')\n",
    "\n",
    "# Show the plot\n",
    "plt.show()\n"
   ]
  },
  {
   "cell_type": "markdown",
   "metadata": {},
   "source": [
    "# 10) DMR functional annotation "
   ]
  },
  {
   "cell_type": "code",
   "execution_count": 19,
   "metadata": {},
   "outputs": [],
   "source": [
    "# Import go terms and description \n",
    "# Geneid to GO term\n",
    "goterm = pd.read_csv('9_DMR_functional_annotation/ccar2swissprotGO_long.txt', sep='\\t')\n",
    "goterm['GO_id'] = goterm['GO_id'].str.strip()\n",
    "\n",
    "# GO term to description\n",
    "godesc = pd.read_csv('9_DMR_functional_annotation/go_data.txt', sep='\\t')\n",
    "godesc['id'] = godesc['id'].str.strip()\n"
   ]
  },
  {
   "cell_type": "code",
   "execution_count": null,
   "metadata": {},
   "outputs": [],
   "source": [
    "#create pandas series for gene_id and goterm\n",
    "go_map = goterm.set_index('gene_id')['GO_id'].str.strip()\n",
    "\n",
    "# define a function to select the right go term for each gene id\n",
    "def select(geneid): \n",
    "    temp = go_map.get(geneid,default=pd.Series())\n",
    "    if isinstance(temp, pd.Series):\n",
    "        return temp.tolist()\n",
    "    else:\n",
    "        return [temp]\n",
    "\n",
    "# create empty dict\n",
    "functional_annotation = {}\n",
    "\n",
    "# append go term to dmr_withinGeneBorder\n",
    "for name,df in dmr_withinGeneBorder.items():\n",
    "    df = df.drop_duplicates(subset=['gene_id'])\n",
    "    df['goterm'] = df['gene_id'].apply(select)\n",
    "    df = df.explode('goterm').dropna(subset=['goterm'])\n",
    "    df[[ 'description', 'biofunction']] = godesc.set_index('id').loc[df ['goterm']].to_numpy()\n",
    "    functional_annotation[name] = df.sort_values('biofunction')\n",
    "\n",
    "# export the go terms for GO enrichment analysis \n",
    "for name, df in functional_annotation.items():\n",
    "    df['gene_id'].to_csv(f'9_DMR_functional_annotation/{name}_functional_annotation.csv', index=False)"
   ]
  },
  {
   "cell_type": "code",
   "execution_count": null,
   "metadata": {},
   "outputs": [],
   "source": [
    "#PLOT\n",
    "# for plot filter the dataframes to only plot the GO terms that are hit multiple times \n",
    "functional_annotation_plot = {}\n",
    "for name, df in functional_annotation.items():\n",
    "    df = df.groupby('goterm').filter(lambda x: len(x) > 1)\n",
    "    functional_annotation_plot[name] = df\n",
    "\n",
    "#create histogram \n",
    "for name, df in functional_annotation_plot.items():\n",
    "    fig,ax = plt.subplots(figsize=(15, 16))\n",
    "    sns.histplot(data=df, y='description', hue='biofunction', shrink=0.8, discrete=True)\n",
    "    plt.title(f'Most Enriched GO Terms for DMR Related Genes ({name})')\n",
    "    plt.ylabel('GO Term Description')\n",
    "    plt.savefig(f'7_match_dmr_to_gene/GO_terms_{name}.png', dpi=500, bbox_inches='tight')\n"
   ]
  },
  {
   "cell_type": "markdown",
   "metadata": {},
   "source": [
    "# 9) investigate hyper- and hypomethlyation"
   ]
  },
  {
   "cell_type": "code",
   "execution_count": 22,
   "metadata": {},
   "outputs": [],
   "source": [
    "# filter the input dmr files to only keep the dmrs that are within gene border \n",
    "# create dict \n",
    "select = {}\n",
    "\n",
    "for name, df in dmr_withinGeneBorder.items():\n",
    "    select[name] = df.index.unique().tolist()\n",
    "    \n",
    "import json \n",
    "with open ('7_match_dmr_to_gene/select_lines.json', 'w') as file:\n",
    "    json.dump(select, file)"
   ]
  },
  {
   "cell_type": "code",
   "execution_count": 23,
   "metadata": {},
   "outputs": [],
   "source": [
    "\n",
    "\n",
    "for name, input_file in input_files.items():\n",
    "    # read inputfiles (function is defined above)\n",
    "    array = read_methylscore(input_file)\n",
    "    array = array[select[name]]\n",
    "    with open (f'7_match_dmr_to_gene/dmr_withingene_{name}.txt', 'w') as file:\n",
    "        for line in array:\n",
    "            file.write('\\t'.join(line) + '\\n')\n",
    "\n",
    "\n"
   ]
  },
  {
   "cell_type": "markdown",
   "metadata": {},
   "source": [
    "# 10) Investigate where DMR within gene "
   ]
  },
  {
   "cell_type": "code",
   "execution_count": 24,
   "metadata": {},
   "outputs": [],
   "source": [
    "for name, df in dmr_withinGeneBorder.items():\n",
    "    df['start_std'] = (df['start'] - df['start_5']) / (df['stop_5'] - df['start_5'])\n",
    "    df['end_std'] = (df['end'] - df['start_5']) / (df['stop_5'] - df['start_5'])"
   ]
  },
  {
   "cell_type": "code",
   "execution_count": null,
   "metadata": {},
   "outputs": [],
   "source": [
    "import matplotlib.pyplot as plt\n",
    "import seaborn as sns\n",
    "import pandas as pd\n",
    "\n",
    "# Create a figure and 3 subplots in a 3x1 grid, sharing the x-axis\n",
    "sns.set_theme(style = 'whitegrid', context='paper', rc={'axes.labelsize':8, 'xtick.labelsize':8, 'ytick.labelsize':8, 'legend.fontsize':8, 'legend.title_fontsize':8})\n",
    "fig, axs = plt.subplots(3, 1, figsize=((6/2.54), (12.75/2.54)), sharex=True, sharey=True)\n",
    "\n",
    "# rename subplots\n",
    "names = {'NvsA': 'Normoxia to\\nAnoxia', 'NvsR': 'Normoxia to\\nReoxygenation', 'AvsR': 'Anoxia to\\nReoxygenation'}\n",
    "\n",
    "# Iterate over the dmr_withinGeneBorder items\n",
    "for i, (name, df) in enumerate(dmr_withinGeneBorder.items()):\n",
    "    # Prepare the data for the step plot\n",
    "    starts = pd.Series({i: 1 for i in df['start_std']})\n",
    "    stops = pd.Series({i: -1 for i in df['end_std']})\n",
    "    all = pd.concat([starts, stops]).sort_index()\n",
    "    all.index.name = 'position'\n",
    "    coverage = all.groupby('position').sum().cumsum()\n",
    "\n",
    "    # Plot the step plot on the respective subplot\n",
    "    ax = axs[i]\n",
    "    ax.step(coverage.index, coverage, where='post', color='#99B1BD', linewidth=0.7)\n",
    "    ax.set_title(f'{names[name]}', fontsize=8)\n",
    "\n",
    "\n",
    "# Set the x-label only on the last subplot\n",
    "axs[-1].set_xlabel('Relative Position\\nwithin Gene')\n",
    "axs[1].set_ylabel(\"Number of DMRs\")\n",
    "\n",
    "# Adjust subplot parameters\n",
    "plt.tight_layout()\n",
    "# export \n",
    "plt.savefig('7_match_dmr_to_gene/DMR_coverage_within_geneborders.svg')\n",
    "plt.show()\n"
   ]
  },
  {
   "cell_type": "markdown",
   "metadata": {},
   "source": [
    "# 11 Invesigate which DMR belongs to which gene "
   ]
  },
  {
   "cell_type": "code",
   "execution_count": 26,
   "metadata": {},
   "outputs": [],
   "source": [
    "\n",
    "\n",
    "\n",
    "# import differentially expressed DMR genes \n",
    "sigdmr = pd.read_csv('13_protein_sequence/13_sig_TMM_protein_seq.tsv', sep='\\t', header=None)\n",
    "sigdmr = sigdmr[0].to_list()"
   ]
  },
  {
   "cell_type": "code",
   "execution_count": null,
   "metadata": {},
   "outputs": [],
   "source": [
    "dmr_withinGeneBorder['NvsA'].loc[dmr_withinGeneBorder['NvsA']['gene_id'].isin(sigdmr)]"
   ]
  },
  {
   "cell_type": "code",
   "execution_count": null,
   "metadata": {},
   "outputs": [],
   "source": [
    "test = dmr_withinGeneBorder['NvsR'].loc[dmr_withinGeneBorder['NvsR']['gene_id'].isin(sigdmr)]\n",
    "test.drop(columns=['start_5', 'stop_5', 'start_0', 'stop_0'], inplace=True)"
   ]
  },
  {
   "cell_type": "code",
   "execution_count": null,
   "metadata": {},
   "outputs": [],
   "source": [
    "test"
   ]
  },
  {
   "cell_type": "code",
   "execution_count": null,
   "metadata": {},
   "outputs": [],
   "source": [
    "dmr_withinGeneBorder['AvsR'].loc[dmr_withinGeneBorder['AvsR']['gene_id'].isin(sigdmr)]"
   ]
  },
  {
   "cell_type": "markdown",
   "metadata": {},
   "source": []
  },
  {
   "cell_type": "code",
   "execution_count": null,
   "metadata": {},
   "outputs": [],
   "source": []
  }
 ],
 "metadata": {
  "kernelspec": {
   "display_name": "methylscore",
   "language": "python",
   "name": "python3"
  },
  "language_info": {
   "codemirror_mode": {
    "name": "ipython",
    "version": 3
   },
   "file_extension": ".py",
   "mimetype": "text/x-python",
   "name": "python",
   "nbconvert_exporter": "python",
   "pygments_lexer": "ipython3",
   "version": "3.11.0"
  }
 },
 "nbformat": 4,
 "nbformat_minor": 2
}
