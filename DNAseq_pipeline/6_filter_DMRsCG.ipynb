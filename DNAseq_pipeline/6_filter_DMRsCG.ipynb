{
 "cells": [
  {
   "cell_type": "markdown",
   "metadata": {},
   "source": [
    "# MethylScore output filtering "
   ]
  },
  {
   "cell_type": "code",
   "execution_count": 1,
   "metadata": {},
   "outputs": [],
   "source": [
    "# import packages \n",
    "import os\n",
    "import awkward as ak\n",
    "import shutil\n",
    "import pandas as pd \n",
    "import numpy as np"
   ]
  },
  {
   "cell_type": "markdown",
   "metadata": {},
   "source": [
    "## 1) Filter for samples are the same in each cluster \n",
    "Since the bed files have different number of column for each row, the dataframe can't be imported with pandas. \n",
    "\n",
    "\n",
    "\n",
    "I open the dataframe and tell it to ignore the first 5 and last 3 column. Those are the one that are uniform throughout the dataframe. I am left with the cluster (numbers) and the cluster list (samples are listed). Hence I calculate the number of elements and only keep half of that (only the listed samples), through which I filter. First, I eliminate the e.g. \"1:\" or \"2:\" and after split all samples in individual elements (split by \",\"). \n",
    "Then I created a for loop, to go through each cluster (sample e.g. \"A2\") and extract the condition e.g. \"A\". If the condition (\"A\") is the same with all the samples that the cluster contains the keep_line=True and it goes on to the next cluster. If all the clusters in one row are True it will append the line (\"row\") to the \"matched_clusters.txt\" file. "
   ]
  },
  {
   "cell_type": "code",
   "execution_count": 2,
   "metadata": {},
   "outputs": [],
   "source": [
    "def process_input_file(input_file_path):\n",
    "    matched_lines = []\n",
    "\n",
    "    with open(input_file_path, 'r') as file:\n",
    "        for line in file:\n",
    "            # Split the line into columns\n",
    "            columns = line.strip().split('\\t')\n",
    "            # get numbers of clusters \n",
    "            sample_cluster = [int(i) for i in columns[4] if i.isdigit()]\n",
    "            # if there are less than 6 sample clusters discard that line \n",
    "            if len(sample_cluster) < 6:\n",
    "                continue\n",
    "            # calculate how many cluster are in that line \n",
    "            n_clusters = max(sample_cluster)\n",
    "            # methylation information \n",
    "            meth = {int(cluster.split(':')[0]): cluster.split(':')[1] for cluster in columns[5:5+n_clusters]}\n",
    "            # convert to integer and if no methylation percentage write None \n",
    "            meth = {k:int(v) if v != '' else np.nan for k,v in meth.items()}\n",
    "            # get samples in each cluster\n",
    "            samples = {int(cluster.split(':')[0]): cluster.split(':')[1] for cluster in columns[5+n_clusters:5+2*n_clusters]}\n",
    "            samples = {k: v.split(',') for k, v in samples.items()}\n",
    "            # convert to df \n",
    "            data = pd.DataFrame([meth, samples], index=['methylation', 'samples']).T\n",
    "            # how many samples are in each cluster \n",
    "            data['samples_per_cluster'] = data['samples'].apply(len)\n",
    "            # check if samples in cluster belong to one condition \n",
    "            for i, names in data['samples'].items():\n",
    "                data.loc[i,'same_cond'] = np.all([name.startswith(names[0][0]) for name in names])\n",
    "            # if the sample in one cluster are not the same dircard that line\n",
    "            if not data['same_cond'].all():\n",
    "                continue\n",
    "            # filter so that min 6 samples are represented in data  \n",
    "            data_ex = data.explode('samples').dropna()\n",
    "            # 6 relevant samples \n",
    "            if len(data_ex) < 6:\n",
    "                continue\n",
    "            data_ex['condition'] = data_ex['samples'].str[0]\n",
    "            # clauclate methylation average for each condition\n",
    "            average_methylation = data_ex[['methylation','condition']].groupby('condition').mean()\n",
    "            # if there are less than 2 conditions discard that line\n",
    "            if len(average_methylation) < 2:\n",
    "                continue\n",
    "            data_ex[['methylation','condition']].groupby('condition').mean()     \n",
    "            # if we have multiple comparisons for one dmr only keep the last line (with the most clusters) \n",
    "            matched_lines.append(';'.join(columns[:3])+';'+'\\t'.join(columns[3:])+f';{n_clusters}\\n')\n",
    "\n",
    "        \n",
    "    # Determine the output file path based on the input file path\n",
    "    output_file_path = os.path.join(os.path.dirname(input_file_path), f'{input_file_path[11:15]}.txt')\n",
    "\n",
    "    # Write the matched rows to the output file\n",
    "    with open(output_file_path, 'w') as outfile:\n",
    "        outfile.writelines(matched_lines)\n",
    "\n",
    "    df = pd.read_csv(output_file_path, sep=';', header=None)\n",
    "    df = df.sort_values(by=[0,1,2,4], ascending=True)\n",
    "    df.drop_duplicates(subset=[0,1,2], keep='last', inplace=True)\n",
    "    df.drop(columns=4, inplace=True)\n",
    "    df.to_csv(output_file_path, sep='\\t', header=False, index=False, quotechar=' ')\n",
    "\n",
    "\n",
    "# List of input file paths\n",
    "input_files = ['6_DMRsCG/1_NvsA/DMRs.CG.bed', '6_DMRsCG/2_NvsR/DMRs.CG.bed', '6_DMRsCG/3_AvsR/DMRs.CG.bed']\n",
    "\n",
    "# Process each input file\n",
    "for input_file in input_files:\n",
    "    process_input_file(input_file)\n",
    "    \n",
    "\n"
   ]
  },
  {
   "cell_type": "code",
   "execution_count": null,
   "metadata": {},
   "outputs": [],
   "source": []
  }
 ],
 "metadata": {
  "kernelspec": {
   "display_name": "general",
   "language": "python",
   "name": "python3"
  },
  "language_info": {
   "codemirror_mode": {
    "name": "ipython",
    "version": 3
   },
   "file_extension": ".py",
   "mimetype": "text/x-python",
   "name": "python",
   "nbconvert_exporter": "python",
   "pygments_lexer": "ipython3",
   "version": "3.11.0"
  }
 },
 "nbformat": 4,
 "nbformat_minor": 2
}
