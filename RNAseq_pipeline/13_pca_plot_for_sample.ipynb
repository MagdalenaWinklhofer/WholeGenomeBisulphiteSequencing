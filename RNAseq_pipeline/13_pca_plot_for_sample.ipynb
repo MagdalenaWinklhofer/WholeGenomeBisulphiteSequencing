{
 "cells": [
  {
   "cell_type": "code",
   "execution_count": 1,
   "metadata": {},
   "outputs": [],
   "source": [
    "# import packages \n",
    "import numpy as np\n",
    "import matplotlib.pyplot as plt\n",
    "import pandas as pd \n",
    "from sklearn.decomposition import PCA\n",
    "from sklearn import preprocessing\n",
    "import seaborn as sns "
   ]
  },
  {
   "cell_type": "markdown",
   "metadata": {},
   "source": [
    "# 1 Import feature counts Data "
   ]
  },
  {
   "cell_type": "code",
   "execution_count": 2,
   "metadata": {},
   "outputs": [],
   "source": [
    "# Import DEG data from Rstudio output (DESeq2 analysis) \n",
    "counts = pd.read_csv('9_create_GeneCountsMatrix/gene_matrix_count.csv')"
   ]
  },
  {
   "cell_type": "code",
   "execution_count": 3,
   "metadata": {},
   "outputs": [
    {
     "name": "stdout",
     "output_type": "stream",
     "text": [
      "[0.42077571 0.13440361]\n"
     ]
    }
   ],
   "source": [
    "# reset indx and transform \n",
    "counts = counts.set_index('Geneid').T\n",
    "\n",
    "# use standard Scaler from sklearn preprocessing to scale the data\n",
    "scaler = preprocessing.StandardScaler()\n",
    "X_scaled  = scaler.fit_transform(counts)\n",
    "\n",
    "# decomposition from many components to only 2 (to be able to plot it) \n",
    "pca = PCA(n_components=2)\n",
    "counts_transfomred = pca.fit_transform(X_scaled)\n",
    "# print the explained variance ratio\n",
    "print(pca.explained_variance_ratio_)"
   ]
  },
  {
   "cell_type": "code",
   "execution_count": 4,
   "metadata": {},
   "outputs": [],
   "source": [
    "# convert the sample names to uniform condition names for plot legend \n",
    "def transform_index_to_number(sample:str)->int:\n",
    "    \"\"\"Transform the index of the counts dataframe to a number\"\"\"\n",
    "    if sample.startswith('N'):\n",
    "        return 'Normoxia'\n",
    "    elif sample.startswith('A'):\n",
    "        return 'Anoxia'\n",
    "    elif sample.startswith('R'):\n",
    "        return 'Reoxygenation'\n",
    "\n",
    "colors = counts.index.map(transform_index_to_number)"
   ]
  },
  {
   "cell_type": "code",
   "execution_count": 5,
   "metadata": {},
   "outputs": [
    {
     "data": {
      "text/plain": [
       "Index(['Reoxygenation', 'Normoxia', 'Anoxia', 'Anoxia', 'Reoxygenation',\n",
       "       'Reoxygenation', 'Normoxia', 'Anoxia', 'Reoxygenation', 'Anoxia',\n",
       "       'Normoxia', 'Normoxia'],\n",
       "      dtype='object')"
      ]
     },
     "execution_count": 5,
     "metadata": {},
     "output_type": "execute_result"
    }
   ],
   "source": [
    "colors"
   ]
  },
  {
   "cell_type": "markdown",
   "metadata": {},
   "source": [
    "# 2 PCA plot"
   ]
  },
  {
   "cell_type": "code",
   "execution_count": 8,
   "metadata": {},
   "outputs": [
    {
     "data": {
      "image/png": "[encoded data removed]",
      "text/plain": [
       "<Figure size 275.591x196.85 with 1 Axes>"
      ]
     },
     "metadata": {},
     "output_type": "display_data"
    }
   ],
   "source": [
    "# PLOT \n",
    "sns.set_theme(palette = 'Set2', style = 'whitegrid', context='paper', rc={'axes.labelsize':8, 'xtick.labelsize':8, 'ytick.labelsize':8, 'legend.fontsize':8, 'legend.title_fontsize':8})\n",
    "plt.figure(figsize=((7/2.54), (5/2.54)))\n",
    "g = sns.scatterplot(x=counts_transfomred[:,0], y=counts_transfomred[:,1], hue=colors, hue_order=['Normoxia', 'Anoxia', 'Reoxygenation'], s=17)\n",
    "sns.move_legend(g,  markerscale=0.5, loc='lower right', ncol=3, bbox_to_anchor=(1, 1.05), frameon=True, columnspacing=0.2, scatteryoffsets=[0.6], handletextpad=0.01, borderaxespad=0.1)\n",
    "\n",
    "#g.add_legend(title='', fontsize=8, loc='upper center', borderaxespad=0.1, ncol=2, bbox_to_anchor=(.33, 0.02), frameon=True)\n",
    "plt.xlabel('PC1')\n",
    "plt.ylabel('PC2')\n",
    "plt.tight_layout()\n",
    "# export \n",
    "plt.savefig('13_pca_plot_for_sample/PCA_sample_clustering_in_RNAseqData_plot.svg')"
   ]
  },
  {
   "cell_type": "code",
   "execution_count": null,
   "metadata": {},
   "outputs": [],
   "source": []
  }
 ],
 "metadata": {
  "kernelspec": {
   "display_name": "rnaseq",
   "language": "python",
   "name": "python3"
  },
  "language_info": {
   "codemirror_mode": {
    "name": "ipython",
    "version": 3
   },
   "file_extension": ".py",
   "mimetype": "text/x-python",
   "name": "python",
   "nbconvert_exporter": "python",
   "pygments_lexer": "ipython3",
   "version": "3.11.5"
  }
 },
 "nbformat": 4,
 "nbformat_minor": 2
}
