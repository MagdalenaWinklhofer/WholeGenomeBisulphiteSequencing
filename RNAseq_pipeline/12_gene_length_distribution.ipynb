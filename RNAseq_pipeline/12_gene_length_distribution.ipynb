{
 "cells": [
  {
   "cell_type": "code",
   "execution_count": 2,
   "metadata": {},
   "outputs": [],
   "source": [
    "# Load packages \n",
    "import numpy as np\n",
    "import pandas as pd\n",
    "import matplotlib.pyplot as plt\n",
    "import matplotlib\n",
    "import seaborn as sns \n",
    "import json\n",
    "# import packages \n",
    "import re\n",
    "import shutil\n",
    "import os\n"
   ]
  },
  {
   "cell_type": "markdown",
   "metadata": {},
   "source": [
    "# 1 Import total number of genes "
   ]
  },
  {
   "cell_type": "code",
   "execution_count": 3,
   "metadata": {},
   "outputs": [],
   "source": [
    "# Import total number of genes from DESeq2 code \n",
    "total = pd.read_csv(\"12_gene_length_distribution/total_number_of_genes.csv\")\n",
    "total = total.rename(columns={\"x\": \"gene_name\"})\n",
    "\n",
    "# should be 45667 genes\n",
    "#len(total[\"gene_name\"].unique())"
   ]
  },
  {
   "cell_type": "markdown",
   "metadata": {},
   "source": [
    "# 2 Import list of gene names \n",
    "with more that 10 reads in total (over all three conditions)"
   ]
  },
  {
   "cell_type": "code",
   "execution_count": 4,
   "metadata": {},
   "outputs": [],
   "source": [
    "# Import genes with more than 10 reads as sum() from DESeq2 code \n",
    "genenames = pd.read_csv(\"12_gene_length_distribution/number_of_genes_with_total_of_10_reads.csv\")\n",
    "genenames = genenames.rename(columns={\"x\": \"gene_name\"})"
   ]
  },
  {
   "cell_type": "markdown",
   "metadata": {},
   "source": [
    "# 3 Import annotation   "
   ]
  },
  {
   "cell_type": "code",
   "execution_count": 5,
   "metadata": {},
   "outputs": [],
   "source": [
    "# import carcar_annotation_v5.gtf \n",
    "annotation = pd.read_csv('12_gene_length_distribution/carcar_annotation_v5.gtf', sep='\\t', comment='#', header=None)\n",
    "# renaming the header of the annotation file\n",
    "annotation = annotation.rename({0: 'seqname',\n",
    "                                1: 'source',\n",
    "                                2: 'feature',\n",
    "                                3: 'start',\n",
    "                                4: 'stop',\n",
    "                                5: 'score',\n",
    "                                6: 'strand',\n",
    "                                7: 'frame',\n",
    "                                8: 'attribute'}, axis=1)\n",
    "\n",
    "    \n",
    "# define a function to extract the geneid\n",
    "def extract_gene_id(attributes):\n",
    "    # Using a regular expression to match and extract the desired part\n",
    "    match = re.search(r'gene_id \"([^\"]+)\"', attributes)\n",
    "    if match:\n",
    "        return match.group(1)\n",
    "    else:\n",
    "        return 0 # Return 0 if there is no match\n",
    "    \n",
    "# filtering the column feature for transcritps\n",
    "annotation = annotation[annotation['feature'] == 'transcript']\n",
    "# Apply the function to the \"attributes\" column and create a new column with the extracted gene ids\n",
    "annotation['gene_id'] = annotation['attribute'].apply(extract_gene_id)"
   ]
  },
  {
   "cell_type": "markdown",
   "metadata": {},
   "source": [
    "# 4 Calculate gene length "
   ]
  },
  {
   "cell_type": "code",
   "execution_count": 6,
   "metadata": {},
   "outputs": [],
   "source": [
    "# calculate the gene length\n",
    "annotation['gene_length'] = annotation['stop'] - annotation['start']\n",
    "# export gene length as csv \n",
    "annotation[['gene_id', 'gene_length']].sort_values(by='gene_length', ascending=True).drop_duplicates(subset='gene_id', keep='last').to_csv(\"12_gene_length_distribution/ccar_gene_length.csv\", index=False)"
   ]
  },
  {
   "cell_type": "code",
   "execution_count": 7,
   "metadata": {},
   "outputs": [],
   "source": [
    "# keep only the lines of the annotation df that contain the gene_id from the gene names list (only keep the genes that have enough counts (more than 10 reads))\n",
    "data = pd.merge(annotation, genenames, left_on='gene_id', right_on='gene_name')"
   ]
  },
  {
   "cell_type": "code",
   "execution_count": 8,
   "metadata": {},
   "outputs": [],
   "source": [
    "# sort the gene length in ascending order\n",
    "data.sort_values('gene_length', ascending=True, inplace=True)\n",
    "# drop duplicates and keep the longest gene length\n",
    "data.drop_duplicates(subset='gene_id', keep='last', inplace=True)"
   ]
  },
  {
   "cell_type": "code",
   "execution_count": 9,
   "metadata": {},
   "outputs": [],
   "source": [
    "# calculate max length of gene length\n",
    "maxima = data['gene_length'].max()\n",
    "minima = data['gene_length'].min()\n",
    "# calculate the average\n",
    "mean_genelength = data['gene_length'].mean()"
   ]
  },
  {
   "cell_type": "markdown",
   "metadata": {},
   "source": [
    "# 5 Histplot gene length distribution"
   ]
  },
  {
   "cell_type": "code",
   "execution_count": 10,
   "metadata": {},
   "outputs": [
    {
     "data": {
      "image/png": "[encoded data removed]",
      "text/plain": [
       "<Figure size 354.331x196.85 with 1 Axes>"
      ]
     },
     "metadata": {},
     "output_type": "display_data"
    }
   ],
   "source": [
    "# PLOT: Length Distribution of Genes \n",
    "sns.set_theme(style = 'whitegrid', palette='colorblind', context='paper', rc={'axes.labelsize':8, 'xtick.labelsize':8, 'ytick.labelsize':8, 'legend.fontsize':8, 'legend.title_fontsize':8, \"axes.formatter.use_mathtext\": True})\n",
    "plt.figure(figsize=(((9)/2.54), (5/2.54)))\n",
    "\n",
    "\n",
    "# on the x axis: Length of genes\n",
    "plt.xlabel('Length of Genes')\n",
    "# on the y axis: Number of genes\n",
    "plt.ylabel('Number of Genes')\n",
    "\n",
    "# plot the histogram\n",
    "plt.hist(data['gene_length'], bins=range(minima,maxima, 20000), color='#AFD198', edgecolor='black', linewidth=0.05)\n",
    "plt.yscale('log')\n",
    "xfmt = plt.ScalarFormatter()\n",
    "xfmt.set_powerlimits((0,0)) \n",
    "plt.gca().xaxis.set_major_formatter(xfmt)\n",
    "\n",
    "# LABELS: \n",
    "# add label for total number of genes \n",
    "plt.text(0.95, 0.97, f'Total Number of Genes: {len(total[\"gene_name\"])}', ha='right', va='top', transform=plt.gca().transAxes, fontsize=8)\n",
    "# add total number of unique genes \n",
    "plt.text(0.95, 0.85, f\"Genes with ≥ 10 Reads: {len(data['gene_name'].unique())}\", ha='right', va='top', transform=plt.gca().transAxes, fontsize=8)\n",
    "# add numer label for average at the top right corner \n",
    "plt.text(0.95, 0.73, f'Average Gene Length: {mean_genelength:.1f}', ha='right', va='top', transform=plt.gca().transAxes, fontsize=8)\n",
    "plt.text(0.95, 0.61, f'Range of Gene Length: {minima} - {maxima}', ha='right', va='top', transform=plt.gca().transAxes, fontsize=8)\n",
    "plt.tight_layout()\n",
    "\n",
    "# save the plot as png with 500 dpi\n",
    "plt.savefig('12_gene_length_distribution/gene_length_distribution.svg')\n"
   ]
  },
  {
   "cell_type": "markdown",
   "metadata": {},
   "source": [
    "# 6 Histogram for only the DMR genes and thei length"
   ]
  },
  {
   "cell_type": "code",
   "execution_count": 11,
   "metadata": {},
   "outputs": [],
   "source": [
    "# read in DMR data (unique gene ids) \n",
    "with open('/home/maggy/WholeGenomeBisulphiteSequencing/DNAseq_pipeline/7_match_dmr_to_gene/dmr_within_geneborders_genelist/dmr_unique_geneids.json', 'r') as f:\n",
    "    dmr_unique_geneids = json.load(f)\n",
    "# concaternte all DMRs into one list \n",
    "dmr = [item for sublist in dmr_unique_geneids.values() for item in sublist]"
   ]
  },
  {
   "cell_type": "code",
   "execution_count": 12,
   "metadata": {},
   "outputs": [],
   "source": [
    "# filter data to only keep the genes that are in the DMR list\n",
    "data_dmr = data[data['gene_id'].isin(dmr)]"
   ]
  },
  {
   "cell_type": "code",
   "execution_count": 13,
   "metadata": {},
   "outputs": [],
   "source": [
    "# calculate max length of gene length\n",
    "dmr_maxima = data_dmr['gene_length'].max()\n",
    "dmr_minima = data_dmr['gene_length'].min()\n",
    "# calculate the average\n",
    "dmr_median_genelength = data_dmr['gene_length'].median()"
   ]
  },
  {
   "cell_type": "code",
   "execution_count": 15,
   "metadata": {},
   "outputs": [
    {
     "name": "stderr",
     "output_type": "stream",
     "text": [
      "/tmp/ipykernel_9470/151610721.py:8: SettingWithCopyWarning: \n",
      "A value is trying to be set on a copy of a slice from a DataFrame.\n",
      "Try using .loc[row_indexer,col_indexer] = value instead\n",
      "\n",
      "See the caveats in the documentation: https://pandas.pydata.org/pandas-docs/stable/user_guide/indexing.html#returning-a-view-versus-a-copy\n",
      "  data_dmr['gene_length_kb'] = np.array(data_dmr['gene_length']) / 1000\n"
     ]
    },
    {
     "data": {
      "image/png": "[encoded data removed]",
      "text/plain": [
       "<Figure size 354.331x196.85 with 1 Axes>"
      ]
     },
     "metadata": {},
     "output_type": "display_data"
    }
   ],
   "source": [
    "# PLOT: Length Distribution of Genes \n",
    "sns.set_theme(style = 'whitegrid', palette='colorblind', context='paper', rc={'axes.labelsize':8, 'xtick.labelsize':8, 'ytick.labelsize':8, 'legend.fontsize':8, 'legend.title_fontsize':8, \"axes.formatter.use_mathtext\": True})\n",
    "plt.figure(figsize=(((9)/2.54), (5/2.54)))\n",
    "\n",
    "\n",
    "# Convert lengths to kilobases\n",
    "data['gene_length_kb'] = np.array(data['gene_length']) / 1000\n",
    "data_dmr['gene_length_kb'] = np.array(data_dmr['gene_length']) / 1000\n",
    "\n",
    "# on the x axis: Length of genes (in kb)\n",
    "plt.xlabel('Length of Genes (kb)')\n",
    "# on the y axis: Number of genes\n",
    "plt.ylabel('Number of Genes')\n",
    "\n",
    "# plot the histogram\n",
    "plt.hist(data['gene_length_kb'], bins=range(0, int(max(data['gene_length_kb']) + 20), 20), \n",
    "         color='#AFD198', edgecolor='black', linewidth=0.05)\n",
    "plt.hist(data_dmr['gene_length_kb'], bins=range(0, int(max(data_dmr['gene_length_kb']) + 20), 20), \n",
    "         color='#99B1BD', edgecolor='black', linewidth=0.05)\n",
    "plt.yscale('log')\n",
    "xfmt = plt.ScalarFormatter()\n",
    "xfmt.set_powerlimits((0, 0))\n",
    "plt.gca().xaxis.set_major_formatter(xfmt)\n",
    "\n",
    "# LABELS: \n",
    "# add label for total number of genes \n",
    "plt.text(0.95, 0.97, f'Genes with sufficient read counts: 40259', ha='right', va='top', \n",
    "         transform=plt.gca().transAxes, fontsize=8)\n",
    "# add total number of unique genes \n",
    "plt.text(0.95, 0.85, f\"Genes with DMRs (GDMRs): {len(np.unique(data_dmr['gene_length']))}\", ha='right', va='top', \n",
    "         transform=plt.gca().transAxes, fontsize=8)\n",
    "# add numeric label for average at the top right corner \n",
    "plt.text(0.95, 0.73, f'Median GDMRs length: {dmr_median_genelength / 1000:.1f} kb', ha='right', va='top', \n",
    "         transform=plt.gca().transAxes, fontsize=8)\n",
    "plt.text(0.95, 0.61, f'Range of GDMRs length:\\n{dmr_minima / 1000:.1f} kb - {dmr_maxima / 1000:.1f} kb', ha='right', va='top', \n",
    "         transform=plt.gca().transAxes, fontsize=8)\n",
    "\n",
    "plt.tight_layout()\n",
    "\n",
    "# save the plot as svg with 500 dpi\n",
    "plt.savefig('12_gene_length_distribution/dmr_length_distribution.svg')\n"
   ]
  },
  {
   "cell_type": "code",
   "execution_count": null,
   "metadata": {},
   "outputs": [],
   "source": []
  }
 ],
 "metadata": {
  "kernelspec": {
   "display_name": "rnaseq",
   "language": "python",
   "name": "python3"
  },
  "language_info": {
   "codemirror_mode": {
    "name": "ipython",
    "version": 3
   },
   "file_extension": ".py",
   "mimetype": "text/x-python",
   "name": "python",
   "nbconvert_exporter": "python",
   "pygments_lexer": "ipython3",
   "version": "3.11.5"
  }
 },
 "nbformat": 4,
 "nbformat_minor": 2
}
