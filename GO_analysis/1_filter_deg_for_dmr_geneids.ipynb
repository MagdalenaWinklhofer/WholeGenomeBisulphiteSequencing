{
 "cells": [
  {
   "cell_type": "code",
   "execution_count": 21,
   "metadata": {},
   "outputs": [],
   "source": [
    "# Load packages \n",
    "import numpy as np\n",
    "import pandas as pd\n",
    "import matplotlib.pyplot as plt\n",
    "import re\n",
    "import json \n"
   ]
  },
  {
   "cell_type": "markdown",
   "metadata": {},
   "source": [
    "# 1) Create deg data for the subsets that are tested against the background "
   ]
  },
  {
   "cell_type": "code",
   "execution_count": 22,
   "metadata": {},
   "outputs": [],
   "source": [
    "# IMPORT DEG DATA \n",
    "# Dictionary to store deg_data \n",
    "deg = {}\n",
    "\n",
    "# create an input file dict \n",
    "input_files = {'NvsA': '1_prepare_data_for_GO_analysis/comp_anoxia_normoxia.csv', 'NvsR': '1_prepare_data_for_GO_analysis/comp_reoxygenation_normoxia.csv', 'AvsR': '1_prepare_data_for_GO_analysis/comp_anoxia_reoxygenation.csv'}\n",
    "\n",
    "# Process each input file\n",
    "for name, input_file in input_files.items():\n",
    "    # Assign the name to dmr_subset\n",
    "    deg[name] = pd.read_csv(input_file, header=0, sep=',')\n",
    "\n",
    "\n",
    "\n",
    "# IMPORT DMR_GENIDS\n",
    "# Dictionary to store dmr_geneids with their names\n",
    "with open('1_prepare_data_for_GO_analysis/dmr_unique_geneids.json', 'r') as file: \n",
    "    dmr_geneids = json.load(file)\n",
    "\n"
   ]
  },
  {
   "cell_type": "code",
   "execution_count": 23,
   "metadata": {},
   "outputs": [],
   "source": [
    "# Filter the deg data to only keep the lines that correspond with the dmr_geneids \n",
    "# set geneid column (Unnamed: 0) as index\n",
    "for name, df in deg.items():\n",
    "    df.rename(columns={'Unnamed: 0': 'gene_id'}, inplace=True)\n",
    "    df.set_index('gene_id', inplace=True)\n"
   ]
  },
  {
   "cell_type": "code",
   "execution_count": 24,
   "metadata": {},
   "outputs": [],
   "source": [
    "# Extract the lines that correspond with the dmr_geneids (this is the subset that will be tested against the background)\n",
    " \n",
    "subset_go = {}\n",
    "\n",
    "for name,df in deg.items():\n",
    "        selection = df.loc[dmr_geneids[name]]\n",
    "        selection.reset_index(inplace=True)\n",
    "        subset_go[name] = selection\n",
    "        # export to csv\n",
    "        selection.to_csv(f'1_prepare_data_for_GO_analysis/goseq_{name}.csv', sep=',', index=True)"
   ]
  },
  {
   "cell_type": "markdown",
   "metadata": {},
   "source": [
    "# 2) Get gene length of all genes "
   ]
  },
  {
   "cell_type": "code",
   "execution_count": 25,
   "metadata": {},
   "outputs": [],
   "source": [
    "# import ccar_annotation.gtf as pd df \n",
    "import pandas as pd \n",
    "\n",
    "annotation = pd.read_csv('/home/maggy/WholeGenomeBisulphiteSequencing/DNAseq_pipeline/7_match_dmr_to_gene/ccar_annotation.gtf', sep='\\t', skiprows=1, header=None)\n",
    "# renaming the header of the annotation file\n",
    "annotation = annotation.rename({0: 'seqname',\n",
    "                                1: 'source',\n",
    "                                2: 'feature',\n",
    "                                3: 'start',\n",
    "                                4: 'stop',\n",
    "                                5: 'score',\n",
    "                                6: 'strand',\n",
    "                                7: 'frame',\n",
    "                                8: 'attribute'}, axis=1)\n",
    "\n",
    "    \n",
    "# define a function to extract the geneid\n",
    "def extract_gene_id(attributes):\n",
    "    # Using a regular expression to match and extract the desired part\n",
    "    match = re.search(r'gene_id \"([^\"]+)\"', attributes)\n",
    "    if match:\n",
    "        return match.group(1)\n",
    "    else:\n",
    "        return 0 # Return 0 if there is no match\n",
    "    \n",
    "# filtering the column feature for transcritps\n",
    "annotation = annotation[annotation['feature'] == 'transcript']\n",
    "\n",
    "# Apply the function to the \"attributes\" column and create a new column with the extracted gene ids\n",
    "annotation['gene_id'] = annotation['attribute'].apply(extract_gene_id)\n",
    "\n",
    "# DEDUPLICATE \n",
    "# since a gene has multiple transcripts you have to deduplicate the geneids \n",
    "# calculate trascript length \n",
    "annotation['gene_length'] = annotation['stop'] - annotation['start']\n",
    "# sort annotation for geneid and transcript length (length is sorted ascending) \n",
    "annotation = annotation.sort_values(['gene_id','gene_length'])\n",
    "# deduplicate to keep the gene id with the longest transcript length \n",
    "annotation = annotation.drop_duplicates(subset=['gene_id'], keep='last')"
   ]
  },
  {
   "cell_type": "code",
   "execution_count": 26,
   "metadata": {},
   "outputs": [],
   "source": [
    "gene_length = annotation[['gene_id', 'gene_length']]\n",
    "# export gene_length to csv without index\n",
    "gene_length.to_csv('1_prepare_data_for_GO_analysis/gene_length.csv', sep=',', index=False)"
   ]
  },
  {
   "cell_type": "markdown",
   "metadata": {},
   "source": [
    "# 3) Edit geneid_GO term df to fit layout "
   ]
  },
  {
   "cell_type": "code",
   "execution_count": 27,
   "metadata": {},
   "outputs": [],
   "source": [
    "geneid_goterm = pd.read_csv('/home/maggy/WholeGenomeBisulphiteSequencing/DNAseq_pipeline/9_DMR_functional_annotation/gene_id_goterms_df_fullgenome.tsv', sep='\\t', header=None)\n",
    "geneid_goterm = geneid_goterm.rename({0: 'gene_id', 1: 'GO annotations'}, axis=1)\n",
    "geneid_goterm = geneid_goterm.drop(columns=[2])\n",
    "# export as txt\n",
    "geneid_goterm.to_csv('1_prepare_data_for_GO_analysis/geneid_goterm.txt', sep='\\t', index=False)"
   ]
  },
  {
   "cell_type": "markdown",
   "metadata": {},
   "source": [
    "# 4) Total number of genes"
   ]
  },
  {
   "cell_type": "code",
   "execution_count": 28,
   "metadata": {},
   "outputs": [],
   "source": [
    "total = pd.read_csv('1_prepare_data_for_GO_analysis/total_number_of_genes.csv', sep=',')\n",
    "total.rename(columns={'x': 'gene_id'}, inplace=True)\n",
    "# export as txt \n",
    "total.to_csv('1_prepare_data_for_GO_analysis/total_number_of_genes.txt', sep='\\t', index=False)"
   ]
  },
  {
   "cell_type": "code",
   "execution_count": null,
   "metadata": {},
   "outputs": [],
   "source": []
  }
 ],
 "metadata": {
  "kernelspec": {
   "display_name": "rnaseq",
   "language": "python",
   "name": "python3"
  },
  "language_info": {
   "codemirror_mode": {
    "name": "ipython",
    "version": 3
   },
   "file_extension": ".py",
   "mimetype": "text/x-python",
   "name": "python",
   "nbconvert_exporter": "python",
   "pygments_lexer": "ipython3",
   "version": "3.11.5"
  }
 },
 "nbformat": 4,
 "nbformat_minor": 2
}
